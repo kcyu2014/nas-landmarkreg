{
 "cells": [
  {
   "cell_type": "code",
   "execution_count": 1,
   "metadata": {
    "collapsed": true,
    "pycharm": {
     "is_executing": false
    }
   },
   "outputs": [
    {
     "name": "stdout",
     "text": [
      "0,1\n"
     ],
     "output_type": "stream"
    }
   ],
   "source": [
    "%load_ext autoreload\n",
    "%autoreload 2\n",
    "!nvidia-smi\n",
    "\n",
    "from argparse import Namespace\n",
    "import sys\n",
    "import os\n",
    "home = os.environ['HOME']\n",
    "os.environ['CUDA_VISIBLE_DEVICES'] = '0,1'\n",
    "print(os.environ['CUDA_VISIBLE_DEVICES'])\n",
    "os.chdir(f'{home}/pycharm/automl')\n",
    "# os.chdir(f'{home}/pycharm/automl/search_policies/rnn')\n",
    "sys.path.append(f'{home}/pycharm/nasbench')\n",
    "sys.path.append(f'{home}/pycharm/automl')\n",
    "import torch \n",
    "import torch.nn as nn"
   ]
  },
  {
   "cell_type": "code",
   "execution_count": 2,
   "outputs": [
    {
     "name": "stdout",
     "text": [
      "Cannot import graphviz package\n"
     ],
     "output_type": "stream"
    }
   ],
   "source": [
    "import utils\n",
    "from image_dataloader import load_dataset\n",
    "from search_policies.cnn.search_space.nasbench101.nasbench_api_v2 import NASBench_v2\n",
    "from search_policies.cnn.search_space.nasbench101.util import load_nasbench_checkpoint, transfer_model_key_to_search_key, nasbench_zero_padding_load_state_dict_pre_hook \n",
    "from search_policies.cnn.procedures.train_search_procedure import darts_model_validation\n",
    "from search_policies.cnn.search_space.nasbench101.model_search import NasBenchNetSearch"
   ],
   "metadata": {
    "collapsed": false,
    "pycharm": {
     "name": "#%%\n",
     "is_executing": false
    }
   }
  },
  {
   "cell_type": "code",
   "execution_count": 3,
   "outputs": [
    {
     "name": "stdout",
     "text": [
      "loading cifar ...\n",
      "Files already downloaded and verified\n",
      "Files already downloaded and verified\n",
      "loading Nasbench dataset...\n"
     ],
     "output_type": "stream"
    }
   ],
   "source": [
    "utils.torch_random_seed(10)\n",
    "print('loading cifar ...')\n",
    "train_queue, valid_queue, test_queue = load_dataset()\n",
    "print(\"loading Nasbench dataset...\")\n",
    "nasbench = NASBench_v2('data/nasbench/nasbench_only108.tfrecord', only_hash=True)"
   ],
   "metadata": {
    "collapsed": false,
    "pycharm": {
     "name": "#%% Load cifar dataset.\n",
     "is_executing": false
    }
   }
  },
  {
   "cell_type": "code",
   "execution_count": 4,
   "outputs": [],
   "source": [
    "sanity_check = True"
   ],
   "metadata": {
    "collapsed": false,
    "pycharm": {
     "name": "#%%\n",
     "is_executing": false
    }
   }
  },
  {
   "cell_type": "code",
   "execution_count": 30,
   "outputs": [
    {
     "name": "stdout",
     "text": [
      "load model and test ...\nmodel_hash  97a390a2cb02fdfbc505f6ac44a37228\nmodel spec Adjacent matrix: [[0, 1, 0, 1, 0, 0, 0], [0, 0, 1, 1, 0, 0, 1], [0, 0, 0, 0, 0, 0, 1], [0, 0, 0, 0, 1, 0, 0], [0, 0, 0, 0, 0, 1, 0], [0, 0, 0, 0, 0, 0, 1], [0, 0, 0, 0, 0, 0, 0]] \nOps: ['input', 'conv3x3-bn-relu', 'maxpool3x3', 'maxpool3x3', 'maxpool3x3', 'maxpool3x3', 'output']\n\n"
     ],
     "output_type": "stream"
    }
   ],
   "source": [
    "# load one model and \n",
    "MODEL_FOLDER='/home/yukaiche/pycharm/automl/experiments/reproduce-nasbench/rank_100002-arch_97a390a2cb02fdfbc505f6ac44a37228-eval-runid-0'\n",
    "CKPT_PATH=MODEL_FOLDER + '/checkpoint.pt'\n",
    "model_folder = MODEL_FOLDER\n",
    "ckpt_path = CKPT_PATH\n",
    "\n",
    "print(\"load model and test ...\")\n",
    "hash = model_folder.split('arch_')[1].split('-eval')[0]\n",
    "print('model_hash ', hash)\n",
    "spec = nasbench.hash_to_model_spec(hash)\n",
    "print('model spec', spec)\n",
    "# model, ckpt = load_nasbench_checkpoint(ckpt_path, spec, legacy=True)\n",
    "\n",
    "from search_policies.cnn.cnn_search_configs import build_default_args\n",
    "# def project the weights \n",
    "default_args = build_default_args()\n",
    "default_args.model_spec = spec\n",
    "spec = nasbench.hash_to_model_spec(hash)\n",
    "model, ckpt = load_nasbench_checkpoint(ckpt_path, spec, legacy=True)\n",
    "model = model.cuda()\n",
    "model.eval()\n",
    "model_search = NasBenchNetSearch(args=default_args)\n",
    "model_search.eval()\n",
    "model_search = model_search.cuda()\n",
    "source_dict = model.state_dict()\n",
    "target_dict = model_search.state_dict()"
   ],
   "metadata": {
    "collapsed": false,
    "pycharm": {
     "name": "#%%\n",
     "is_executing": false
    }
   }
  },
  {
   "cell_type": "code",
   "execution_count": 33,
   "outputs": [
    {
     "name": "stdout",
     "text": [
      "stem.0.weight tensor(3.7924, device='cuda:0')\nstem.1.weight tensor(-42.6739, device='cuda:0')\nstem.1.bias tensor(5.2125, device='cuda:0')\nstem.1.running_mean tensor(0.2281, device='cuda:0')\nstem.1.running_var tensor(-110.5854, device='cuda:0')\nstem.1.num_batches_tracked tensor(313121, device='cuda:0')\n"
     ],
     "output_type": "stream"
    }
   ],
   "source": [
    "# Checking the loaded model state dict.\n",
    "if sanity_check:\n",
    "    for ind, k in enumerate(source_dict.keys()):\n",
    "        if ind > 5:\n",
    "            break\n",
    "        print(k, ((source_dict[k] - target_dict[k]).sum()))\n",
    "\n",
    "trans_dict = dict()\n",
    "\n",
    "for k in model.state_dict().keys():\n",
    "    kk = transfer_model_key_to_search_key(k, spec)\n",
    "    if kk not in model_search.state_dict().keys():\n",
    "        print('not found ', kk)\n",
    "        continue\n",
    "    # if sanity_check:\n",
    "    #     print(f'map {k}', source_dict[k].size()) \n",
    "    #     print(f'to {kk}' ,target_dict[kk].size())\n",
    "    \n",
    "    trans_dict[kk] = source_dict[k]\n",
    "\n",
    "padded_dict = nasbench_zero_padding_load_state_dict_pre_hook(trans_dict, model_search.state_dict())"
   ],
   "metadata": {
    "collapsed": false,
    "pycharm": {
     "name": "#%%\n",
     "is_executing": false
    }
   }
  },
  {
   "cell_type": "code",
   "execution_count": 36,
   "outputs": [
    {
     "name": "stdout",
     "text": [
      "stem.0.weight\n0.0\n0.0\nstem.1.weight\n0.0\n0.0\nstem.1.bias\n0.0\n0.0\nstem.1.running_mean\n0.0\n0.0\nstem.1.running_var\n0.0\n0.0\nstem.1.num_batches_tracked\n0\n0\n"
     ],
     "output_type": "stream"
    }
   ],
   "source": [
    "if sanity_check:\n",
    "    target_dict = model_search.state_dict()\n",
    "    for ind, k in enumerate(padded_dict.keys()):\n",
    "        if ind > 5:\n",
    "            break\n",
    "        print(k)\n",
    "        print((padded_dict[k] - target_dict[k]).sum().item())\n",
    "        print((ckpt['model_state'][k] - target_dict[k]).sum().item())\n",
    "        # print((padded_dict[k][trans_dict[k].size()[0]] - trans_dict[k]).sum())"
   ],
   "metadata": {
    "collapsed": false,
    "pycharm": {
     "name": "#%%\n",
     "is_executing": false
    }
   }
  },
  {
   "cell_type": "code",
   "execution_count": 35,
   "outputs": [],
   "source": [
    "# loaded the padded dict and test the results.\n",
    "model_search.load_state_dict(padded_dict)\n",
    "model_search = model_search.change_model_spec(spec)\n",
    "model_search = model_search.eval()"
   ],
   "metadata": {
    "collapsed": false,
    "pycharm": {
     "name": "#%%\n",
     "is_executing": false
    }
   }
  },
  {
   "cell_type": "code",
   "execution_count": 39,
   "outputs": [
    {
     "name": "stdout",
     "text": [
      "original model evaluation on test split (92.95, 0.40452058811187747)\n",
      "Reload to NasBenchSearch, evaluation results  (92.95, 0.40452058811187747)\n"
     ],
     "output_type": "stream"
    }
   ],
   "source": [
    "res = darts_model_validation(test_queue, model, nn.CrossEntropyLoss(),Namespace(debug=False, report_freq=50))\n",
    "print('original model evaluation on test split', res)\n",
    "\n",
    "search_res = darts_model_validation(test_queue, model_search, nn.CrossEntropyLoss(),Namespace(debug=False, report_freq=50))\n",
    "print('Reload to NasBenchSearch, evaluation results ' ,search_res)\n",
    "# results get worse after padding to original node. Somethings goes wrong."
   ],
   "metadata": {
    "collapsed": false,
    "pycharm": {
     "name": "#%%\n",
     "is_executing": false
    }
   }
  },
  {
   "cell_type": "code",
   "execution_count": 8,
   "outputs": [],
   "source": [
    "# Further sanity checking, by loading part of the model and continue."
   ],
   "metadata": {
    "collapsed": false,
    "pycharm": {
     "name": "#%% \n",
     "is_executing": false
    }
   }
  },
  {
   "cell_type": "code",
   "execution_count": 9,
   "outputs": [],
   "source": [
    "# print(model.stacks['stack0']['module0'].vertex_ops.keys())\n",
    "# print(spec.ops)\n",
    "# m0 = model.stacks['stack0']['module0']\n",
    "# print([k for k in m0.state_dict().keys() if 'vertex_1' not in k and 'proj' not in k ])\n",
    "# # print([k for k in m0.state_dict().keys() if 'vertex_1' not in k and 'proj' not in k ])\n",
    "# load_keys = sorted([transfer_model_key_to_search_key(k, spec) for k in k1])\n",
    "# train_param_keys = sorted(train_param_keys)\n",
    "# # for a1, a2 in zip(load_keys, train_param_keys):\n",
    "# #     print(a1)\n",
    "# #     print(a2)\n",
    "# for a1 in load_keys:\n",
    "#     if a1 not in train_param_keys:\n",
    "#         print(a1)\n",
    "# print(len(load_keys), len(train_param_keys))\n",
    "\n"
   ],
   "metadata": {
    "collapsed": false,
    "pycharm": {
     "name": "#%%\n",
     "is_executing": false
    }
   }
  },
  {
   "cell_type": "code",
   "execution_count": 10,
   "outputs": [
    {
     "data": {
      "text/plain": "NasBenchNetSearch(\n  (stem): Sequential(\n    (0): Conv2d(3, 128, kernel_size=(3, 3), stride=(1, 1), padding=(1, 1), bias=False)\n    (1): BatchNorm2d(128, eps=1e-05, momentum=0.997, affine=True, track_running_stats=True)\n    (2): ReLU()\n  )\n  (stacks): ModuleDict(\n    (stack0): ModuleDict(\n      (module0): NasBenchCellSearch(\n        (vertex_ops): ModuleDict(\n          (vertex_1): MixedVertex(\n            (proj_ops): ModuleList(\n              (0): DynamicReLUConvBN(\n                (relu): ReLU()\n                (conv): DynamicConv2d(128, 256, kernel_size=(1, 1), stride=(1, 1), bias=False)\n                (bn): BatchNorm2d(256, eps=1e-05, momentum=0.997, affine=True, track_running_stats=True)\n                (channel_drop): ChannelDropout()\n              )\n            )\n            (ops): ModuleDict(\n              (conv1x1-bn-relu): DynamicReLUConvBN(\n                (relu): ReLU()\n                (conv): DynamicConv2d(256, 256, kernel_size=(1, 1), stride=(1, 1), bias=False)\n                (bn): BatchNorm2d(256, eps=1e-05, momentum=0.997, affine=True, track_running_stats=True)\n                (channel_drop): ChannelDropout()\n              )\n              (conv3x3-bn-relu): DynamicReLUConvBN(\n                (relu): ReLU()\n                (conv): DynamicConv2d(256, 256, kernel_size=(3, 3), stride=(1, 1), padding=(1, 1), bias=False)\n                (bn): BatchNorm2d(256, eps=1e-05, momentum=0.997, affine=True, track_running_stats=True)\n                (channel_drop): ChannelDropout()\n              )\n              (maxpool3x3): MaxPool2d(kernel_size=3, stride=1, padding=1, dilation=1, ceil_mode=False)\n            )\n          )\n          (vertex_2): MixedVertex(\n            (proj_ops): ModuleList(\n              (0): DynamicReLUConvBN(\n                (relu): ReLU()\n                (conv): DynamicConv2d(128, 256, kernel_size=(1, 1), stride=(1, 1), bias=False)\n                (bn): BatchNorm2d(256, eps=1e-05, momentum=0.997, affine=True, track_running_stats=True)\n                (channel_drop): ChannelDropout()\n              )\n              (1): Truncate()\n            )\n            (ops): ModuleDict(\n              (conv1x1-bn-relu): DynamicReLUConvBN(\n                (relu): ReLU()\n                (conv): DynamicConv2d(256, 256, kernel_size=(1, 1), stride=(1, 1), bias=False)\n                (bn): BatchNorm2d(256, eps=1e-05, momentum=0.997, affine=True, track_running_stats=True)\n                (channel_drop): ChannelDropout()\n              )\n              (conv3x3-bn-relu): DynamicReLUConvBN(\n                (relu): ReLU()\n                (conv): DynamicConv2d(256, 256, kernel_size=(3, 3), stride=(1, 1), padding=(1, 1), bias=False)\n                (bn): BatchNorm2d(256, eps=1e-05, momentum=0.997, affine=True, track_running_stats=True)\n                (channel_drop): ChannelDropout()\n              )\n              (maxpool3x3): MaxPool2d(kernel_size=3, stride=1, padding=1, dilation=1, ceil_mode=False)\n            )\n          )\n          (vertex_3): MixedVertex(\n            (proj_ops): ModuleList(\n              (0): DynamicReLUConvBN(\n                (relu): ReLU()\n                (conv): DynamicConv2d(128, 256, kernel_size=(1, 1), stride=(1, 1), bias=False)\n                (bn): BatchNorm2d(256, eps=1e-05, momentum=0.997, affine=True, track_running_stats=True)\n                (channel_drop): ChannelDropout()\n              )\n              (1): Truncate()\n              (2): Truncate()\n            )\n            (ops): ModuleDict(\n              (conv1x1-bn-relu): DynamicReLUConvBN(\n                (relu): ReLU()\n                (conv): DynamicConv2d(256, 256, kernel_size=(1, 1), stride=(1, 1), bias=False)\n                (bn): BatchNorm2d(256, eps=1e-05, momentum=0.997, affine=True, track_running_stats=True)\n                (channel_drop): ChannelDropout()\n              )\n              (conv3x3-bn-relu): DynamicReLUConvBN(\n                (relu): ReLU()\n                (conv): DynamicConv2d(256, 256, kernel_size=(3, 3), stride=(1, 1), padding=(1, 1), bias=False)\n                (bn): BatchNorm2d(256, eps=1e-05, momentum=0.997, affine=True, track_running_stats=True)\n                (channel_drop): ChannelDropout()\n              )\n              (maxpool3x3): MaxPool2d(kernel_size=3, stride=1, padding=1, dilation=1, ceil_mode=False)\n            )\n          )\n          (vertex_4): MixedVertex(\n            (proj_ops): ModuleList(\n              (0): DynamicReLUConvBN(\n                (relu): ReLU()\n                (conv): DynamicConv2d(128, 256, kernel_size=(1, 1), stride=(1, 1), bias=False)\n                (bn): BatchNorm2d(256, eps=1e-05, momentum=0.997, affine=True, track_running_stats=True)\n                (channel_drop): ChannelDropout()\n              )\n              (1): Truncate()\n              (2): Truncate()\n              (3): Truncate()\n            )\n            (ops): ModuleDict(\n              (conv1x1-bn-relu): DynamicReLUConvBN(\n                (relu): ReLU()\n                (conv): DynamicConv2d(256, 256, kernel_size=(1, 1), stride=(1, 1), bias=False)\n                (bn): BatchNorm2d(256, eps=1e-05, momentum=0.997, affine=True, track_running_stats=True)\n                (channel_drop): ChannelDropout()\n              )\n              (conv3x3-bn-relu): DynamicReLUConvBN(\n                (relu): ReLU()\n                (conv): DynamicConv2d(256, 256, kernel_size=(3, 3), stride=(1, 1), padding=(1, 1), bias=False)\n                (bn): BatchNorm2d(256, eps=1e-05, momentum=0.997, affine=True, track_running_stats=True)\n                (channel_drop): ChannelDropout()\n              )\n              (maxpool3x3): MaxPool2d(kernel_size=3, stride=1, padding=1, dilation=1, ceil_mode=False)\n            )\n          )\n          (vertex_5): MixedVertex(\n            (proj_ops): ModuleList(\n              (0): DynamicReLUConvBN(\n                (relu): ReLU()\n                (conv): DynamicConv2d(128, 256, kernel_size=(1, 1), stride=(1, 1), bias=False)\n                (bn): BatchNorm2d(256, eps=1e-05, momentum=0.997, affine=True, track_running_stats=True)\n                (channel_drop): ChannelDropout()\n              )\n              (1): Truncate()\n              (2): Truncate()\n              (3): Truncate()\n              (4): Truncate()\n            )\n            (ops): ModuleDict(\n              (conv1x1-bn-relu): DynamicReLUConvBN(\n                (relu): ReLU()\n                (conv): DynamicConv2d(256, 256, kernel_size=(1, 1), stride=(1, 1), bias=False)\n                (bn): BatchNorm2d(256, eps=1e-05, momentum=0.997, affine=True, track_running_stats=True)\n                (channel_drop): ChannelDropout()\n              )\n              (conv3x3-bn-relu): DynamicReLUConvBN(\n                (relu): ReLU()\n                (conv): DynamicConv2d(256, 256, kernel_size=(3, 3), stride=(1, 1), padding=(1, 1), bias=False)\n                (bn): BatchNorm2d(256, eps=1e-05, momentum=0.997, affine=True, track_running_stats=True)\n                (channel_drop): ChannelDropout()\n              )\n              (maxpool3x3): MaxPool2d(kernel_size=3, stride=1, padding=1, dilation=1, ceil_mode=False)\n            )\n          )\n        )\n        (projection): Sequential(\n          (0): Conv2d(128, 256, kernel_size=(1, 1), stride=(1, 1), bias=False)\n          (1): BatchNorm2d(256, eps=1e-05, momentum=0.997, affine=True, track_running_stats=True)\n          (2): ReLU()\n        )\n      )\n      (module1): NasBenchCellSearch(\n        (vertex_ops): ModuleDict(\n          (vertex_1): MixedVertex(\n            (proj_ops): ModuleList(\n              (0): DynamicReLUConvBN(\n                (relu): ReLU()\n                (conv): DynamicConv2d(256, 256, kernel_size=(1, 1), stride=(1, 1), bias=False)\n                (bn): BatchNorm2d(256, eps=1e-05, momentum=0.997, affine=True, track_running_stats=True)\n                (channel_drop): ChannelDropout()\n              )\n            )\n            (ops): ModuleDict(\n              (conv1x1-bn-relu): DynamicReLUConvBN(\n                (relu): ReLU()\n                (conv): DynamicConv2d(256, 256, kernel_size=(1, 1), stride=(1, 1), bias=False)\n                (bn): BatchNorm2d(256, eps=1e-05, momentum=0.997, affine=True, track_running_stats=True)\n                (channel_drop): ChannelDropout()\n              )\n              (conv3x3-bn-relu): DynamicReLUConvBN(\n                (relu): ReLU()\n                (conv): DynamicConv2d(256, 256, kernel_size=(3, 3), stride=(1, 1), padding=(1, 1), bias=False)\n                (bn): BatchNorm2d(256, eps=1e-05, momentum=0.997, affine=True, track_running_stats=True)\n                (channel_drop): ChannelDropout()\n              )\n              (maxpool3x3): MaxPool2d(kernel_size=3, stride=1, padding=1, dilation=1, ceil_mode=False)\n            )\n          )\n          (vertex_2): MixedVertex(\n            (proj_ops): ModuleList(\n              (0): DynamicReLUConvBN(\n                (relu): ReLU()\n                (conv): DynamicConv2d(256, 256, kernel_size=(1, 1), stride=(1, 1), bias=False)\n                (bn): BatchNorm2d(256, eps=1e-05, momentum=0.997, affine=True, track_running_stats=True)\n                (channel_drop): ChannelDropout()\n              )\n              (1): Truncate()\n            )\n            (ops): ModuleDict(\n              (conv1x1-bn-relu): DynamicReLUConvBN(\n                (relu): ReLU()\n                (conv): DynamicConv2d(256, 256, kernel_size=(1, 1), stride=(1, 1), bias=False)\n                (bn): BatchNorm2d(256, eps=1e-05, momentum=0.997, affine=True, track_running_stats=True)\n                (channel_drop): ChannelDropout()\n              )\n              (conv3x3-bn-relu): DynamicReLUConvBN(\n                (relu): ReLU()\n                (conv): DynamicConv2d(256, 256, kernel_size=(3, 3), stride=(1, 1), padding=(1, 1), bias=False)\n                (bn): BatchNorm2d(256, eps=1e-05, momentum=0.997, affine=True, track_running_stats=True)\n                (channel_drop): ChannelDropout()\n              )\n              (maxpool3x3): MaxPool2d(kernel_size=3, stride=1, padding=1, dilation=1, ceil_mode=False)\n            )\n          )\n          (vertex_3): MixedVertex(\n            (proj_ops): ModuleList(\n              (0): DynamicReLUConvBN(\n                (relu): ReLU()\n                (conv): DynamicConv2d(256, 256, kernel_size=(1, 1), stride=(1, 1), bias=False)\n                (bn): BatchNorm2d(256, eps=1e-05, momentum=0.997, affine=True, track_running_stats=True)\n                (channel_drop): ChannelDropout()\n              )\n              (1): Truncate()\n              (2): Truncate()\n            )\n            (ops): ModuleDict(\n              (conv1x1-bn-relu): DynamicReLUConvBN(\n                (relu): ReLU()\n                (conv): DynamicConv2d(256, 256, kernel_size=(1, 1), stride=(1, 1), bias=False)\n                (bn): BatchNorm2d(256, eps=1e-05, momentum=0.997, affine=True, track_running_stats=True)\n                (channel_drop): ChannelDropout()\n              )\n              (conv3x3-bn-relu): DynamicReLUConvBN(\n                (relu): ReLU()\n                (conv): DynamicConv2d(256, 256, kernel_size=(3, 3), stride=(1, 1), padding=(1, 1), bias=False)\n                (bn): BatchNorm2d(256, eps=1e-05, momentum=0.997, affine=True, track_running_stats=True)\n                (channel_drop): ChannelDropout()\n              )\n              (maxpool3x3): MaxPool2d(kernel_size=3, stride=1, padding=1, dilation=1, ceil_mode=False)\n            )\n          )\n          (vertex_4): MixedVertex(\n            (proj_ops): ModuleList(\n              (0): DynamicReLUConvBN(\n                (relu): ReLU()\n                (conv): DynamicConv2d(256, 256, kernel_size=(1, 1), stride=(1, 1), bias=False)\n                (bn): BatchNorm2d(256, eps=1e-05, momentum=0.997, affine=True, track_running_stats=True)\n                (channel_drop): ChannelDropout()\n              )\n              (1): Truncate()\n              (2): Truncate()\n              (3): Truncate()\n            )\n            (ops): ModuleDict(\n              (conv1x1-bn-relu): DynamicReLUConvBN(\n                (relu): ReLU()\n                (conv): DynamicConv2d(256, 256, kernel_size=(1, 1), stride=(1, 1), bias=False)\n                (bn): BatchNorm2d(256, eps=1e-05, momentum=0.997, affine=True, track_running_stats=True)\n                (channel_drop): ChannelDropout()\n              )\n              (conv3x3-bn-relu): DynamicReLUConvBN(\n                (relu): ReLU()\n                (conv): DynamicConv2d(256, 256, kernel_size=(3, 3), stride=(1, 1), padding=(1, 1), bias=False)\n                (bn): BatchNorm2d(256, eps=1e-05, momentum=0.997, affine=True, track_running_stats=True)\n                (channel_drop): ChannelDropout()\n              )\n              (maxpool3x3): MaxPool2d(kernel_size=3, stride=1, padding=1, dilation=1, ceil_mode=False)\n            )\n          )\n          (vertex_5): MixedVertex(\n            (proj_ops): ModuleList(\n              (0): DynamicReLUConvBN(\n                (relu): ReLU()\n                (conv): DynamicConv2d(256, 256, kernel_size=(1, 1), stride=(1, 1), bias=False)\n                (bn): BatchNorm2d(256, eps=1e-05, momentum=0.997, affine=True, track_running_stats=True)\n                (channel_drop): ChannelDropout()\n              )\n              (1): Truncate()\n              (2): Truncate()\n              (3): Truncate()\n              (4): Truncate()\n            )\n            (ops): ModuleDict(\n              (conv1x1-bn-relu): DynamicReLUConvBN(\n                (relu): ReLU()\n                (conv): DynamicConv2d(256, 256, kernel_size=(1, 1), stride=(1, 1), bias=False)\n                (bn): BatchNorm2d(256, eps=1e-05, momentum=0.997, affine=True, track_running_stats=True)\n                (channel_drop): ChannelDropout()\n              )\n              (conv3x3-bn-relu): DynamicReLUConvBN(\n                (relu): ReLU()\n                (conv): DynamicConv2d(256, 256, kernel_size=(3, 3), stride=(1, 1), padding=(1, 1), bias=False)\n                (bn): BatchNorm2d(256, eps=1e-05, momentum=0.997, affine=True, track_running_stats=True)\n                (channel_drop): ChannelDropout()\n              )\n              (maxpool3x3): MaxPool2d(kernel_size=3, stride=1, padding=1, dilation=1, ceil_mode=False)\n            )\n          )\n        )\n        (projection): Sequential(\n          (0): Conv2d(256, 256, kernel_size=(1, 1), stride=(1, 1), bias=False)\n          (1): BatchNorm2d(256, eps=1e-05, momentum=0.997, affine=True, track_running_stats=True)\n          (2): ReLU()\n        )\n      )\n      (module2): NasBenchCellSearch(\n        (vertex_ops): ModuleDict(\n          (vertex_1): MixedVertex(\n            (proj_ops): ModuleList(\n              (0): DynamicReLUConvBN(\n                (relu): ReLU()\n                (conv): DynamicConv2d(256, 256, kernel_size=(1, 1), stride=(1, 1), bias=False)\n                (bn): BatchNorm2d(256, eps=1e-05, momentum=0.997, affine=True, track_running_stats=True)\n                (channel_drop): ChannelDropout()\n              )\n            )\n            (ops): ModuleDict(\n              (conv1x1-bn-relu): DynamicReLUConvBN(\n                (relu): ReLU()\n                (conv): DynamicConv2d(256, 256, kernel_size=(1, 1), stride=(1, 1), bias=False)\n                (bn): BatchNorm2d(256, eps=1e-05, momentum=0.997, affine=True, track_running_stats=True)\n                (channel_drop): ChannelDropout()\n              )\n              (conv3x3-bn-relu): DynamicReLUConvBN(\n                (relu): ReLU()\n                (conv): DynamicConv2d(256, 256, kernel_size=(3, 3), stride=(1, 1), padding=(1, 1), bias=False)\n                (bn): BatchNorm2d(256, eps=1e-05, momentum=0.997, affine=True, track_running_stats=True)\n                (channel_drop): ChannelDropout()\n              )\n              (maxpool3x3): MaxPool2d(kernel_size=3, stride=1, padding=1, dilation=1, ceil_mode=False)\n            )\n          )\n          (vertex_2): MixedVertex(\n            (proj_ops): ModuleList(\n              (0): DynamicReLUConvBN(\n                (relu): ReLU()\n                (conv): DynamicConv2d(256, 256, kernel_size=(1, 1), stride=(1, 1), bias=False)\n                (bn): BatchNorm2d(256, eps=1e-05, momentum=0.997, affine=True, track_running_stats=True)\n                (channel_drop): ChannelDropout()\n              )\n              (1): Truncate()\n            )\n            (ops): ModuleDict(\n              (conv1x1-bn-relu): DynamicReLUConvBN(\n                (relu): ReLU()\n                (conv): DynamicConv2d(256, 256, kernel_size=(1, 1), stride=(1, 1), bias=False)\n                (bn): BatchNorm2d(256, eps=1e-05, momentum=0.997, affine=True, track_running_stats=True)\n                (channel_drop): ChannelDropout()\n              )\n              (conv3x3-bn-relu): DynamicReLUConvBN(\n                (relu): ReLU()\n                (conv): DynamicConv2d(256, 256, kernel_size=(3, 3), stride=(1, 1), padding=(1, 1), bias=False)\n                (bn): BatchNorm2d(256, eps=1e-05, momentum=0.997, affine=True, track_running_stats=True)\n                (channel_drop): ChannelDropout()\n              )\n              (maxpool3x3): MaxPool2d(kernel_size=3, stride=1, padding=1, dilation=1, ceil_mode=False)\n            )\n          )\n          (vertex_3): MixedVertex(\n            (proj_ops): ModuleList(\n              (0): DynamicReLUConvBN(\n                (relu): ReLU()\n                (conv): DynamicConv2d(256, 256, kernel_size=(1, 1), stride=(1, 1), bias=False)\n                (bn): BatchNorm2d(256, eps=1e-05, momentum=0.997, affine=True, track_running_stats=True)\n                (channel_drop): ChannelDropout()\n              )\n              (1): Truncate()\n              (2): Truncate()\n            )\n            (ops): ModuleDict(\n              (conv1x1-bn-relu): DynamicReLUConvBN(\n                (relu): ReLU()\n                (conv): DynamicConv2d(256, 256, kernel_size=(1, 1), stride=(1, 1), bias=False)\n                (bn): BatchNorm2d(256, eps=1e-05, momentum=0.997, affine=True, track_running_stats=True)\n                (channel_drop): ChannelDropout()\n              )\n              (conv3x3-bn-relu): DynamicReLUConvBN(\n                (relu): ReLU()\n                (conv): DynamicConv2d(256, 256, kernel_size=(3, 3), stride=(1, 1), padding=(1, 1), bias=False)\n                (bn): BatchNorm2d(256, eps=1e-05, momentum=0.997, affine=True, track_running_stats=True)\n                (channel_drop): ChannelDropout()\n              )\n              (maxpool3x3): MaxPool2d(kernel_size=3, stride=1, padding=1, dilation=1, ceil_mode=False)\n            )\n          )\n          (vertex_4): MixedVertex(\n            (proj_ops): ModuleList(\n              (0): DynamicReLUConvBN(\n                (relu): ReLU()\n                (conv): DynamicConv2d(256, 256, kernel_size=(1, 1), stride=(1, 1), bias=False)\n                (bn): BatchNorm2d(256, eps=1e-05, momentum=0.997, affine=True, track_running_stats=True)\n                (channel_drop): ChannelDropout()\n              )\n              (1): Truncate()\n              (2): Truncate()\n              (3): Truncate()\n            )\n            (ops): ModuleDict(\n              (conv1x1-bn-relu): DynamicReLUConvBN(\n                (relu): ReLU()\n                (conv): DynamicConv2d(256, 256, kernel_size=(1, 1), stride=(1, 1), bias=False)\n                (bn): BatchNorm2d(256, eps=1e-05, momentum=0.997, affine=True, track_running_stats=True)\n                (channel_drop): ChannelDropout()\n              )\n              (conv3x3-bn-relu): DynamicReLUConvBN(\n                (relu): ReLU()\n                (conv): DynamicConv2d(256, 256, kernel_size=(3, 3), stride=(1, 1), padding=(1, 1), bias=False)\n                (bn): BatchNorm2d(256, eps=1e-05, momentum=0.997, affine=True, track_running_stats=True)\n                (channel_drop): ChannelDropout()\n              )\n              (maxpool3x3): MaxPool2d(kernel_size=3, stride=1, padding=1, dilation=1, ceil_mode=False)\n            )\n          )\n          (vertex_5): MixedVertex(\n            (proj_ops): ModuleList(\n              (0): DynamicReLUConvBN(\n                (relu): ReLU()\n                (conv): DynamicConv2d(256, 256, kernel_size=(1, 1), stride=(1, 1), bias=False)\n                (bn): BatchNorm2d(256, eps=1e-05, momentum=0.997, affine=True, track_running_stats=True)\n                (channel_drop): ChannelDropout()\n              )\n              (1): Truncate()\n              (2): Truncate()\n              (3): Truncate()\n              (4): Truncate()\n            )\n            (ops): ModuleDict(\n              (conv1x1-bn-relu): DynamicReLUConvBN(\n                (relu): ReLU()\n                (conv): DynamicConv2d(256, 256, kernel_size=(1, 1), stride=(1, 1), bias=False)\n                (bn): BatchNorm2d(256, eps=1e-05, momentum=0.997, affine=True, track_running_stats=True)\n                (channel_drop): ChannelDropout()\n              )\n              (conv3x3-bn-relu): DynamicReLUConvBN(\n                (relu): ReLU()\n                (conv): DynamicConv2d(256, 256, kernel_size=(3, 3), stride=(1, 1), padding=(1, 1), bias=False)\n                (bn): BatchNorm2d(256, eps=1e-05, momentum=0.997, affine=True, track_running_stats=True)\n                (channel_drop): ChannelDropout()\n              )\n              (maxpool3x3): MaxPool2d(kernel_size=3, stride=1, padding=1, dilation=1, ceil_mode=False)\n            )\n          )\n        )\n        (projection): Sequential(\n          (0): Conv2d(256, 256, kernel_size=(1, 1), stride=(1, 1), bias=False)\n          (1): BatchNorm2d(256, eps=1e-05, momentum=0.997, affine=True, track_running_stats=True)\n          (2): ReLU()\n        )\n      )\n    )\n    (stack1): ModuleDict(\n      (downsample): Sequential(\n        (0): ZeroPad2d(padding=(0, 1, 0, 1), value=0.0)\n        (1): MaxPool2d(kernel_size=2, stride=2, padding=0, dilation=1, ceil_mode=False)\n      )\n      (module0): NasBenchCellSearch(\n        (vertex_ops): ModuleDict(\n          (vertex_1): MixedVertex(\n            (proj_ops): ModuleList(\n              (0): DynamicReLUConvBN(\n                (relu): ReLU()\n                (conv): DynamicConv2d(256, 512, kernel_size=(1, 1), stride=(1, 1), bias=False)\n                (bn): BatchNorm2d(512, eps=1e-05, momentum=0.997, affine=True, track_running_stats=True)\n                (channel_drop): ChannelDropout()\n              )\n            )\n            (ops): ModuleDict(\n              (conv1x1-bn-relu): DynamicReLUConvBN(\n                (relu): ReLU()\n                (conv): DynamicConv2d(512, 512, kernel_size=(1, 1), stride=(1, 1), bias=False)\n                (bn): BatchNorm2d(512, eps=1e-05, momentum=0.997, affine=True, track_running_stats=True)\n                (channel_drop): ChannelDropout()\n              )\n              (conv3x3-bn-relu): DynamicReLUConvBN(\n                (relu): ReLU()\n                (conv): DynamicConv2d(512, 512, kernel_size=(3, 3), stride=(1, 1), padding=(1, 1), bias=False)\n                (bn): BatchNorm2d(512, eps=1e-05, momentum=0.997, affine=True, track_running_stats=True)\n                (channel_drop): ChannelDropout()\n              )\n              (maxpool3x3): MaxPool2d(kernel_size=3, stride=1, padding=1, dilation=1, ceil_mode=False)\n            )\n          )\n          (vertex_2): MixedVertex(\n            (proj_ops): ModuleList(\n              (0): DynamicReLUConvBN(\n                (relu): ReLU()\n                (conv): DynamicConv2d(256, 512, kernel_size=(1, 1), stride=(1, 1), bias=False)\n                (bn): BatchNorm2d(512, eps=1e-05, momentum=0.997, affine=True, track_running_stats=True)\n                (channel_drop): ChannelDropout()\n              )\n              (1): Truncate()\n            )\n            (ops): ModuleDict(\n              (conv1x1-bn-relu): DynamicReLUConvBN(\n                (relu): ReLU()\n                (conv): DynamicConv2d(512, 512, kernel_size=(1, 1), stride=(1, 1), bias=False)\n                (bn): BatchNorm2d(512, eps=1e-05, momentum=0.997, affine=True, track_running_stats=True)\n                (channel_drop): ChannelDropout()\n              )\n              (conv3x3-bn-relu): DynamicReLUConvBN(\n                (relu): ReLU()\n                (conv): DynamicConv2d(512, 512, kernel_size=(3, 3), stride=(1, 1), padding=(1, 1), bias=False)\n                (bn): BatchNorm2d(512, eps=1e-05, momentum=0.997, affine=True, track_running_stats=True)\n                (channel_drop): ChannelDropout()\n              )\n              (maxpool3x3): MaxPool2d(kernel_size=3, stride=1, padding=1, dilation=1, ceil_mode=False)\n            )\n          )\n          (vertex_3): MixedVertex(\n            (proj_ops): ModuleList(\n              (0): DynamicReLUConvBN(\n                (relu): ReLU()\n                (conv): DynamicConv2d(256, 512, kernel_size=(1, 1), stride=(1, 1), bias=False)\n                (bn): BatchNorm2d(512, eps=1e-05, momentum=0.997, affine=True, track_running_stats=True)\n                (channel_drop): ChannelDropout()\n              )\n              (1): Truncate()\n              (2): Truncate()\n            )\n            (ops): ModuleDict(\n              (conv1x1-bn-relu): DynamicReLUConvBN(\n                (relu): ReLU()\n                (conv): DynamicConv2d(512, 512, kernel_size=(1, 1), stride=(1, 1), bias=False)\n                (bn): BatchNorm2d(512, eps=1e-05, momentum=0.997, affine=True, track_running_stats=True)\n                (channel_drop): ChannelDropout()\n              )\n              (conv3x3-bn-relu): DynamicReLUConvBN(\n                (relu): ReLU()\n                (conv): DynamicConv2d(512, 512, kernel_size=(3, 3), stride=(1, 1), padding=(1, 1), bias=False)\n                (bn): BatchNorm2d(512, eps=1e-05, momentum=0.997, affine=True, track_running_stats=True)\n                (channel_drop): ChannelDropout()\n              )\n              (maxpool3x3): MaxPool2d(kernel_size=3, stride=1, padding=1, dilation=1, ceil_mode=False)\n            )\n          )\n          (vertex_4): MixedVertex(\n            (proj_ops): ModuleList(\n              (0): DynamicReLUConvBN(\n                (relu): ReLU()\n                (conv): DynamicConv2d(256, 512, kernel_size=(1, 1), stride=(1, 1), bias=False)\n                (bn): BatchNorm2d(512, eps=1e-05, momentum=0.997, affine=True, track_running_stats=True)\n                (channel_drop): ChannelDropout()\n              )\n              (1): Truncate()\n              (2): Truncate()\n              (3): Truncate()\n            )\n            (ops): ModuleDict(\n              (conv1x1-bn-relu): DynamicReLUConvBN(\n                (relu): ReLU()\n                (conv): DynamicConv2d(512, 512, kernel_size=(1, 1), stride=(1, 1), bias=False)\n                (bn): BatchNorm2d(512, eps=1e-05, momentum=0.997, affine=True, track_running_stats=True)\n                (channel_drop): ChannelDropout()\n              )\n              (conv3x3-bn-relu): DynamicReLUConvBN(\n                (relu): ReLU()\n                (conv): DynamicConv2d(512, 512, kernel_size=(3, 3), stride=(1, 1), padding=(1, 1), bias=False)\n                (bn): BatchNorm2d(512, eps=1e-05, momentum=0.997, affine=True, track_running_stats=True)\n                (channel_drop): ChannelDropout()\n              )\n              (maxpool3x3): MaxPool2d(kernel_size=3, stride=1, padding=1, dilation=1, ceil_mode=False)\n            )\n          )\n          (vertex_5): MixedVertex(\n            (proj_ops): ModuleList(\n              (0): DynamicReLUConvBN(\n                (relu): ReLU()\n                (conv): DynamicConv2d(256, 512, kernel_size=(1, 1), stride=(1, 1), bias=False)\n                (bn): BatchNorm2d(512, eps=1e-05, momentum=0.997, affine=True, track_running_stats=True)\n                (channel_drop): ChannelDropout()\n              )\n              (1): Truncate()\n              (2): Truncate()\n              (3): Truncate()\n              (4): Truncate()\n            )\n            (ops): ModuleDict(\n              (conv1x1-bn-relu): DynamicReLUConvBN(\n                (relu): ReLU()\n                (conv): DynamicConv2d(512, 512, kernel_size=(1, 1), stride=(1, 1), bias=False)\n                (bn): BatchNorm2d(512, eps=1e-05, momentum=0.997, affine=True, track_running_stats=True)\n                (channel_drop): ChannelDropout()\n              )\n              (conv3x3-bn-relu): DynamicReLUConvBN(\n                (relu): ReLU()\n                (conv): DynamicConv2d(512, 512, kernel_size=(3, 3), stride=(1, 1), padding=(1, 1), bias=False)\n                (bn): BatchNorm2d(512, eps=1e-05, momentum=0.997, affine=True, track_running_stats=True)\n                (channel_drop): ChannelDropout()\n              )\n              (maxpool3x3): MaxPool2d(kernel_size=3, stride=1, padding=1, dilation=1, ceil_mode=False)\n            )\n          )\n        )\n        (projection): Sequential(\n          (0): Conv2d(256, 512, kernel_size=(1, 1), stride=(1, 1), bias=False)\n          (1): BatchNorm2d(512, eps=1e-05, momentum=0.997, affine=True, track_running_stats=True)\n          (2): ReLU()\n        )\n      )\n      (module1): NasBenchCellSearch(\n        (vertex_ops): ModuleDict(\n          (vertex_1): MixedVertex(\n            (proj_ops): ModuleList(\n              (0): DynamicReLUConvBN(\n                (relu): ReLU()\n                (conv): DynamicConv2d(512, 512, kernel_size=(1, 1), stride=(1, 1), bias=False)\n                (bn): BatchNorm2d(512, eps=1e-05, momentum=0.997, affine=True, track_running_stats=True)\n                (channel_drop): ChannelDropout()\n              )\n            )\n            (ops): ModuleDict(\n              (conv1x1-bn-relu): DynamicReLUConvBN(\n                (relu): ReLU()\n                (conv): DynamicConv2d(512, 512, kernel_size=(1, 1), stride=(1, 1), bias=False)\n                (bn): BatchNorm2d(512, eps=1e-05, momentum=0.997, affine=True, track_running_stats=True)\n                (channel_drop): ChannelDropout()\n              )\n              (conv3x3-bn-relu): DynamicReLUConvBN(\n                (relu): ReLU()\n                (conv): DynamicConv2d(512, 512, kernel_size=(3, 3), stride=(1, 1), padding=(1, 1), bias=False)\n                (bn): BatchNorm2d(512, eps=1e-05, momentum=0.997, affine=True, track_running_stats=True)\n                (channel_drop): ChannelDropout()\n              )\n              (maxpool3x3): MaxPool2d(kernel_size=3, stride=1, padding=1, dilation=1, ceil_mode=False)\n            )\n          )\n          (vertex_2): MixedVertex(\n            (proj_ops): ModuleList(\n              (0): DynamicReLUConvBN(\n                (relu): ReLU()\n                (conv): DynamicConv2d(512, 512, kernel_size=(1, 1), stride=(1, 1), bias=False)\n                (bn): BatchNorm2d(512, eps=1e-05, momentum=0.997, affine=True, track_running_stats=True)\n                (channel_drop): ChannelDropout()\n              )\n              (1): Truncate()\n            )\n            (ops): ModuleDict(\n              (conv1x1-bn-relu): DynamicReLUConvBN(\n                (relu): ReLU()\n                (conv): DynamicConv2d(512, 512, kernel_size=(1, 1), stride=(1, 1), bias=False)\n                (bn): BatchNorm2d(512, eps=1e-05, momentum=0.997, affine=True, track_running_stats=True)\n                (channel_drop): ChannelDropout()\n              )\n              (conv3x3-bn-relu): DynamicReLUConvBN(\n                (relu): ReLU()\n                (conv): DynamicConv2d(512, 512, kernel_size=(3, 3), stride=(1, 1), padding=(1, 1), bias=False)\n                (bn): BatchNorm2d(512, eps=1e-05, momentum=0.997, affine=True, track_running_stats=True)\n                (channel_drop): ChannelDropout()\n              )\n              (maxpool3x3): MaxPool2d(kernel_size=3, stride=1, padding=1, dilation=1, ceil_mode=False)\n            )\n          )\n          (vertex_3): MixedVertex(\n            (proj_ops): ModuleList(\n              (0): DynamicReLUConvBN(\n                (relu): ReLU()\n                (conv): DynamicConv2d(512, 512, kernel_size=(1, 1), stride=(1, 1), bias=False)\n                (bn): BatchNorm2d(512, eps=1e-05, momentum=0.997, affine=True, track_running_stats=True)\n                (channel_drop): ChannelDropout()\n              )\n              (1): Truncate()\n              (2): Truncate()\n            )\n            (ops): ModuleDict(\n              (conv1x1-bn-relu): DynamicReLUConvBN(\n                (relu): ReLU()\n                (conv): DynamicConv2d(512, 512, kernel_size=(1, 1), stride=(1, 1), bias=False)\n                (bn): BatchNorm2d(512, eps=1e-05, momentum=0.997, affine=True, track_running_stats=True)\n                (channel_drop): ChannelDropout()\n              )\n              (conv3x3-bn-relu): DynamicReLUConvBN(\n                (relu): ReLU()\n                (conv): DynamicConv2d(512, 512, kernel_size=(3, 3), stride=(1, 1), padding=(1, 1), bias=False)\n                (bn): BatchNorm2d(512, eps=1e-05, momentum=0.997, affine=True, track_running_stats=True)\n                (channel_drop): ChannelDropout()\n              )\n              (maxpool3x3): MaxPool2d(kernel_size=3, stride=1, padding=1, dilation=1, ceil_mode=False)\n            )\n          )\n          (vertex_4): MixedVertex(\n            (proj_ops): ModuleList(\n              (0): DynamicReLUConvBN(\n                (relu): ReLU()\n                (conv): DynamicConv2d(512, 512, kernel_size=(1, 1), stride=(1, 1), bias=False)\n                (bn): BatchNorm2d(512, eps=1e-05, momentum=0.997, affine=True, track_running_stats=True)\n                (channel_drop): ChannelDropout()\n              )\n              (1): Truncate()\n              (2): Truncate()\n              (3): Truncate()\n            )\n            (ops): ModuleDict(\n              (conv1x1-bn-relu): DynamicReLUConvBN(\n                (relu): ReLU()\n                (conv): DynamicConv2d(512, 512, kernel_size=(1, 1), stride=(1, 1), bias=False)\n                (bn): BatchNorm2d(512, eps=1e-05, momentum=0.997, affine=True, track_running_stats=True)\n                (channel_drop): ChannelDropout()\n              )\n              (conv3x3-bn-relu): DynamicReLUConvBN(\n                (relu): ReLU()\n                (conv): DynamicConv2d(512, 512, kernel_size=(3, 3), stride=(1, 1), padding=(1, 1), bias=False)\n                (bn): BatchNorm2d(512, eps=1e-05, momentum=0.997, affine=True, track_running_stats=True)\n                (channel_drop): ChannelDropout()\n              )\n              (maxpool3x3): MaxPool2d(kernel_size=3, stride=1, padding=1, dilation=1, ceil_mode=False)\n            )\n          )\n          (vertex_5): MixedVertex(\n            (proj_ops): ModuleList(\n              (0): DynamicReLUConvBN(\n                (relu): ReLU()\n                (conv): DynamicConv2d(512, 512, kernel_size=(1, 1), stride=(1, 1), bias=False)\n                (bn): BatchNorm2d(512, eps=1e-05, momentum=0.997, affine=True, track_running_stats=True)\n                (channel_drop): ChannelDropout()\n              )\n              (1): Truncate()\n              (2): Truncate()\n              (3): Truncate()\n              (4): Truncate()\n            )\n            (ops): ModuleDict(\n              (conv1x1-bn-relu): DynamicReLUConvBN(\n                (relu): ReLU()\n                (conv): DynamicConv2d(512, 512, kernel_size=(1, 1), stride=(1, 1), bias=False)\n                (bn): BatchNorm2d(512, eps=1e-05, momentum=0.997, affine=True, track_running_stats=True)\n                (channel_drop): ChannelDropout()\n              )\n              (conv3x3-bn-relu): DynamicReLUConvBN(\n                (relu): ReLU()\n                (conv): DynamicConv2d(512, 512, kernel_size=(3, 3), stride=(1, 1), padding=(1, 1), bias=False)\n                (bn): BatchNorm2d(512, eps=1e-05, momentum=0.997, affine=True, track_running_stats=True)\n                (channel_drop): ChannelDropout()\n              )\n              (maxpool3x3): MaxPool2d(kernel_size=3, stride=1, padding=1, dilation=1, ceil_mode=False)\n            )\n          )\n        )\n        (projection): Sequential(\n          (0): Conv2d(512, 512, kernel_size=(1, 1), stride=(1, 1), bias=False)\n          (1): BatchNorm2d(512, eps=1e-05, momentum=0.997, affine=True, track_running_stats=True)\n          (2): ReLU()\n        )\n      )\n      (module2): NasBenchCellSearch(\n        (vertex_ops): ModuleDict(\n          (vertex_1): MixedVertex(\n            (proj_ops): ModuleList(\n              (0): DynamicReLUConvBN(\n                (relu): ReLU()\n                (conv): DynamicConv2d(512, 512, kernel_size=(1, 1), stride=(1, 1), bias=False)\n                (bn): BatchNorm2d(512, eps=1e-05, momentum=0.997, affine=True, track_running_stats=True)\n                (channel_drop): ChannelDropout()\n              )\n            )\n            (ops): ModuleDict(\n              (conv1x1-bn-relu): DynamicReLUConvBN(\n                (relu): ReLU()\n                (conv): DynamicConv2d(512, 512, kernel_size=(1, 1), stride=(1, 1), bias=False)\n                (bn): BatchNorm2d(512, eps=1e-05, momentum=0.997, affine=True, track_running_stats=True)\n                (channel_drop): ChannelDropout()\n              )\n              (conv3x3-bn-relu): DynamicReLUConvBN(\n                (relu): ReLU()\n                (conv): DynamicConv2d(512, 512, kernel_size=(3, 3), stride=(1, 1), padding=(1, 1), bias=False)\n                (bn): BatchNorm2d(512, eps=1e-05, momentum=0.997, affine=True, track_running_stats=True)\n                (channel_drop): ChannelDropout()\n              )\n              (maxpool3x3): MaxPool2d(kernel_size=3, stride=1, padding=1, dilation=1, ceil_mode=False)\n            )\n          )\n          (vertex_2): MixedVertex(\n            (proj_ops): ModuleList(\n              (0): DynamicReLUConvBN(\n                (relu): ReLU()\n                (conv): DynamicConv2d(512, 512, kernel_size=(1, 1), stride=(1, 1), bias=False)\n                (bn): BatchNorm2d(512, eps=1e-05, momentum=0.997, affine=True, track_running_stats=True)\n                (channel_drop): ChannelDropout()\n              )\n              (1): Truncate()\n            )\n            (ops): ModuleDict(\n              (conv1x1-bn-relu): DynamicReLUConvBN(\n                (relu): ReLU()\n                (conv): DynamicConv2d(512, 512, kernel_size=(1, 1), stride=(1, 1), bias=False)\n                (bn): BatchNorm2d(512, eps=1e-05, momentum=0.997, affine=True, track_running_stats=True)\n                (channel_drop): ChannelDropout()\n              )\n              (conv3x3-bn-relu): DynamicReLUConvBN(\n                (relu): ReLU()\n                (conv): DynamicConv2d(512, 512, kernel_size=(3, 3), stride=(1, 1), padding=(1, 1), bias=False)\n                (bn): BatchNorm2d(512, eps=1e-05, momentum=0.997, affine=True, track_running_stats=True)\n                (channel_drop): ChannelDropout()\n              )\n              (maxpool3x3): MaxPool2d(kernel_size=3, stride=1, padding=1, dilation=1, ceil_mode=False)\n            )\n          )\n          (vertex_3): MixedVertex(\n            (proj_ops): ModuleList(\n              (0): DynamicReLUConvBN(\n                (relu): ReLU()\n                (conv): DynamicConv2d(512, 512, kernel_size=(1, 1), stride=(1, 1), bias=False)\n                (bn): BatchNorm2d(512, eps=1e-05, momentum=0.997, affine=True, track_running_stats=True)\n                (channel_drop): ChannelDropout()\n              )\n              (1): Truncate()\n              (2): Truncate()\n            )\n            (ops): ModuleDict(\n              (conv1x1-bn-relu): DynamicReLUConvBN(\n                (relu): ReLU()\n                (conv): DynamicConv2d(512, 512, kernel_size=(1, 1), stride=(1, 1), bias=False)\n                (bn): BatchNorm2d(512, eps=1e-05, momentum=0.997, affine=True, track_running_stats=True)\n                (channel_drop): ChannelDropout()\n              )\n              (conv3x3-bn-relu): DynamicReLUConvBN(\n                (relu): ReLU()\n                (conv): DynamicConv2d(512, 512, kernel_size=(3, 3), stride=(1, 1), padding=(1, 1), bias=False)\n                (bn): BatchNorm2d(512, eps=1e-05, momentum=0.997, affine=True, track_running_stats=True)\n                (channel_drop): ChannelDropout()\n              )\n              (maxpool3x3): MaxPool2d(kernel_size=3, stride=1, padding=1, dilation=1, ceil_mode=False)\n            )\n          )\n          (vertex_4): MixedVertex(\n            (proj_ops): ModuleList(\n              (0): DynamicReLUConvBN(\n                (relu): ReLU()\n                (conv): DynamicConv2d(512, 512, kernel_size=(1, 1), stride=(1, 1), bias=False)\n                (bn): BatchNorm2d(512, eps=1e-05, momentum=0.997, affine=True, track_running_stats=True)\n                (channel_drop): ChannelDropout()\n              )\n              (1): Truncate()\n              (2): Truncate()\n              (3): Truncate()\n            )\n            (ops): ModuleDict(\n              (conv1x1-bn-relu): DynamicReLUConvBN(\n                (relu): ReLU()\n                (conv): DynamicConv2d(512, 512, kernel_size=(1, 1), stride=(1, 1), bias=False)\n                (bn): BatchNorm2d(512, eps=1e-05, momentum=0.997, affine=True, track_running_stats=True)\n                (channel_drop): ChannelDropout()\n              )\n              (conv3x3-bn-relu): DynamicReLUConvBN(\n                (relu): ReLU()\n                (conv): DynamicConv2d(512, 512, kernel_size=(3, 3), stride=(1, 1), padding=(1, 1), bias=False)\n                (bn): BatchNorm2d(512, eps=1e-05, momentum=0.997, affine=True, track_running_stats=True)\n                (channel_drop): ChannelDropout()\n              )\n              (maxpool3x3): MaxPool2d(kernel_size=3, stride=1, padding=1, dilation=1, ceil_mode=False)\n            )\n          )\n          (vertex_5): MixedVertex(\n            (proj_ops): ModuleList(\n              (0): DynamicReLUConvBN(\n                (relu): ReLU()\n                (conv): DynamicConv2d(512, 512, kernel_size=(1, 1), stride=(1, 1), bias=False)\n                (bn): BatchNorm2d(512, eps=1e-05, momentum=0.997, affine=True, track_running_stats=True)\n                (channel_drop): ChannelDropout()\n              )\n              (1): Truncate()\n              (2): Truncate()\n              (3): Truncate()\n              (4): Truncate()\n            )\n            (ops): ModuleDict(\n              (conv1x1-bn-relu): DynamicReLUConvBN(\n                (relu): ReLU()\n                (conv): DynamicConv2d(512, 512, kernel_size=(1, 1), stride=(1, 1), bias=False)\n                (bn): BatchNorm2d(512, eps=1e-05, momentum=0.997, affine=True, track_running_stats=True)\n                (channel_drop): ChannelDropout()\n              )\n              (conv3x3-bn-relu): DynamicReLUConvBN(\n                (relu): ReLU()\n                (conv): DynamicConv2d(512, 512, kernel_size=(3, 3), stride=(1, 1), padding=(1, 1), bias=False)\n                (bn): BatchNorm2d(512, eps=1e-05, momentum=0.997, affine=True, track_running_stats=True)\n                (channel_drop): ChannelDropout()\n              )\n              (maxpool3x3): MaxPool2d(kernel_size=3, stride=1, padding=1, dilation=1, ceil_mode=False)\n            )\n          )\n        )\n        (projection): Sequential(\n          (0): Conv2d(512, 512, kernel_size=(1, 1), stride=(1, 1), bias=False)\n          (1): BatchNorm2d(512, eps=1e-05, momentum=0.997, affine=True, track_running_stats=True)\n          (2): ReLU()\n        )\n      )\n    )\n    (stack2): ModuleDict(\n      (downsample): Sequential(\n        (0): ZeroPad2d(padding=(0, 1, 0, 1), value=0.0)\n        (1): MaxPool2d(kernel_size=2, stride=2, padding=0, dilation=1, ceil_mode=False)\n      )\n      (module0): NasBenchCellSearch(\n        (vertex_ops): ModuleDict(\n          (vertex_1): MixedVertex(\n            (proj_ops): ModuleList(\n              (0): DynamicReLUConvBN(\n                (relu): ReLU()\n                (conv): DynamicConv2d(512, 1024, kernel_size=(1, 1), stride=(1, 1), bias=False)\n                (bn): BatchNorm2d(1024, eps=1e-05, momentum=0.997, affine=True, track_running_stats=True)\n                (channel_drop): ChannelDropout()\n              )\n            )\n            (ops): ModuleDict(\n              (conv1x1-bn-relu): DynamicReLUConvBN(\n                (relu): ReLU()\n                (conv): DynamicConv2d(1024, 1024, kernel_size=(1, 1), stride=(1, 1), bias=False)\n                (bn): BatchNorm2d(1024, eps=1e-05, momentum=0.997, affine=True, track_running_stats=True)\n                (channel_drop): ChannelDropout()\n              )\n              (conv3x3-bn-relu): DynamicReLUConvBN(\n                (relu): ReLU()\n                (conv): DynamicConv2d(1024, 1024, kernel_size=(3, 3), stride=(1, 1), padding=(1, 1), bias=False)\n                (bn): BatchNorm2d(1024, eps=1e-05, momentum=0.997, affine=True, track_running_stats=True)\n                (channel_drop): ChannelDropout()\n              )\n              (maxpool3x3): MaxPool2d(kernel_size=3, stride=1, padding=1, dilation=1, ceil_mode=False)\n            )\n          )\n          (vertex_2): MixedVertex(\n            (proj_ops): ModuleList(\n              (0): DynamicReLUConvBN(\n                (relu): ReLU()\n                (conv): DynamicConv2d(512, 1024, kernel_size=(1, 1), stride=(1, 1), bias=False)\n                (bn): BatchNorm2d(1024, eps=1e-05, momentum=0.997, affine=True, track_running_stats=True)\n                (channel_drop): ChannelDropout()\n              )\n              (1): Truncate()\n            )\n            (ops): ModuleDict(\n              (conv1x1-bn-relu): DynamicReLUConvBN(\n                (relu): ReLU()\n                (conv): DynamicConv2d(1024, 1024, kernel_size=(1, 1), stride=(1, 1), bias=False)\n                (bn): BatchNorm2d(1024, eps=1e-05, momentum=0.997, affine=True, track_running_stats=True)\n                (channel_drop): ChannelDropout()\n              )\n              (conv3x3-bn-relu): DynamicReLUConvBN(\n                (relu): ReLU()\n                (conv): DynamicConv2d(1024, 1024, kernel_size=(3, 3), stride=(1, 1), padding=(1, 1), bias=False)\n                (bn): BatchNorm2d(1024, eps=1e-05, momentum=0.997, affine=True, track_running_stats=True)\n                (channel_drop): ChannelDropout()\n              )\n              (maxpool3x3): MaxPool2d(kernel_size=3, stride=1, padding=1, dilation=1, ceil_mode=False)\n            )\n          )\n          (vertex_3): MixedVertex(\n            (proj_ops): ModuleList(\n              (0): DynamicReLUConvBN(\n                (relu): ReLU()\n                (conv): DynamicConv2d(512, 1024, kernel_size=(1, 1), stride=(1, 1), bias=False)\n                (bn): BatchNorm2d(1024, eps=1e-05, momentum=0.997, affine=True, track_running_stats=True)\n                (channel_drop): ChannelDropout()\n              )\n              (1): Truncate()\n              (2): Truncate()\n            )\n            (ops): ModuleDict(\n              (conv1x1-bn-relu): DynamicReLUConvBN(\n                (relu): ReLU()\n                (conv): DynamicConv2d(1024, 1024, kernel_size=(1, 1), stride=(1, 1), bias=False)\n                (bn): BatchNorm2d(1024, eps=1e-05, momentum=0.997, affine=True, track_running_stats=True)\n                (channel_drop): ChannelDropout()\n              )\n              (conv3x3-bn-relu): DynamicReLUConvBN(\n                (relu): ReLU()\n                (conv): DynamicConv2d(1024, 1024, kernel_size=(3, 3), stride=(1, 1), padding=(1, 1), bias=False)\n                (bn): BatchNorm2d(1024, eps=1e-05, momentum=0.997, affine=True, track_running_stats=True)\n                (channel_drop): ChannelDropout()\n              )\n              (maxpool3x3): MaxPool2d(kernel_size=3, stride=1, padding=1, dilation=1, ceil_mode=False)\n            )\n          )\n          (vertex_4): MixedVertex(\n            (proj_ops): ModuleList(\n              (0): DynamicReLUConvBN(\n                (relu): ReLU()\n                (conv): DynamicConv2d(512, 1024, kernel_size=(1, 1), stride=(1, 1), bias=False)\n                (bn): BatchNorm2d(1024, eps=1e-05, momentum=0.997, affine=True, track_running_stats=True)\n                (channel_drop): ChannelDropout()\n              )\n              (1): Truncate()\n              (2): Truncate()\n              (3): Truncate()\n            )\n            (ops): ModuleDict(\n              (conv1x1-bn-relu): DynamicReLUConvBN(\n                (relu): ReLU()\n                (conv): DynamicConv2d(1024, 1024, kernel_size=(1, 1), stride=(1, 1), bias=False)\n                (bn): BatchNorm2d(1024, eps=1e-05, momentum=0.997, affine=True, track_running_stats=True)\n                (channel_drop): ChannelDropout()\n              )\n              (conv3x3-bn-relu): DynamicReLUConvBN(\n                (relu): ReLU()\n                (conv): DynamicConv2d(1024, 1024, kernel_size=(3, 3), stride=(1, 1), padding=(1, 1), bias=False)\n                (bn): BatchNorm2d(1024, eps=1e-05, momentum=0.997, affine=True, track_running_stats=True)\n                (channel_drop): ChannelDropout()\n              )\n              (maxpool3x3): MaxPool2d(kernel_size=3, stride=1, padding=1, dilation=1, ceil_mode=False)\n            )\n          )\n          (vertex_5): MixedVertex(\n            (proj_ops): ModuleList(\n              (0): DynamicReLUConvBN(\n                (relu): ReLU()\n                (conv): DynamicConv2d(512, 1024, kernel_size=(1, 1), stride=(1, 1), bias=False)\n                (bn): BatchNorm2d(1024, eps=1e-05, momentum=0.997, affine=True, track_running_stats=True)\n                (channel_drop): ChannelDropout()\n              )\n              (1): Truncate()\n              (2): Truncate()\n              (3): Truncate()\n              (4): Truncate()\n            )\n            (ops): ModuleDict(\n              (conv1x1-bn-relu): DynamicReLUConvBN(\n                (relu): ReLU()\n                (conv): DynamicConv2d(1024, 1024, kernel_size=(1, 1), stride=(1, 1), bias=False)\n                (bn): BatchNorm2d(1024, eps=1e-05, momentum=0.997, affine=True, track_running_stats=True)\n                (channel_drop): ChannelDropout()\n              )\n              (conv3x3-bn-relu): DynamicReLUConvBN(\n                (relu): ReLU()\n                (conv): DynamicConv2d(1024, 1024, kernel_size=(3, 3), stride=(1, 1), padding=(1, 1), bias=False)\n                (bn): BatchNorm2d(1024, eps=1e-05, momentum=0.997, affine=True, track_running_stats=True)\n                (channel_drop): ChannelDropout()\n              )\n              (maxpool3x3): MaxPool2d(kernel_size=3, stride=1, padding=1, dilation=1, ceil_mode=False)\n            )\n          )\n        )\n        (projection): Sequential(\n          (0): Conv2d(512, 1024, kernel_size=(1, 1), stride=(1, 1), bias=False)\n          (1): BatchNorm2d(1024, eps=1e-05, momentum=0.997, affine=True, track_running_stats=True)\n          (2): ReLU()\n        )\n      )\n      (module1): NasBenchCellSearch(\n        (vertex_ops): ModuleDict(\n          (vertex_1): MixedVertex(\n            (proj_ops): ModuleList(\n              (0): DynamicReLUConvBN(\n                (relu): ReLU()\n                (conv): DynamicConv2d(1024, 1024, kernel_size=(1, 1), stride=(1, 1), bias=False)\n                (bn): BatchNorm2d(1024, eps=1e-05, momentum=0.997, affine=True, track_running_stats=True)\n                (channel_drop): ChannelDropout()\n              )\n            )\n            (ops): ModuleDict(\n              (conv1x1-bn-relu): DynamicReLUConvBN(\n                (relu): ReLU()\n                (conv): DynamicConv2d(1024, 1024, kernel_size=(1, 1), stride=(1, 1), bias=False)\n                (bn): BatchNorm2d(1024, eps=1e-05, momentum=0.997, affine=True, track_running_stats=True)\n                (channel_drop): ChannelDropout()\n              )\n              (conv3x3-bn-relu): DynamicReLUConvBN(\n                (relu): ReLU()\n                (conv): DynamicConv2d(1024, 1024, kernel_size=(3, 3), stride=(1, 1), padding=(1, 1), bias=False)\n                (bn): BatchNorm2d(1024, eps=1e-05, momentum=0.997, affine=True, track_running_stats=True)\n                (channel_drop): ChannelDropout()\n              )\n              (maxpool3x3): MaxPool2d(kernel_size=3, stride=1, padding=1, dilation=1, ceil_mode=False)\n            )\n          )\n          (vertex_2): MixedVertex(\n            (proj_ops): ModuleList(\n              (0): DynamicReLUConvBN(\n                (relu): ReLU()\n                (conv): DynamicConv2d(1024, 1024, kernel_size=(1, 1), stride=(1, 1), bias=False)\n                (bn): BatchNorm2d(1024, eps=1e-05, momentum=0.997, affine=True, track_running_stats=True)\n                (channel_drop): ChannelDropout()\n              )\n              (1): Truncate()\n            )\n            (ops): ModuleDict(\n              (conv1x1-bn-relu): DynamicReLUConvBN(\n                (relu): ReLU()\n                (conv): DynamicConv2d(1024, 1024, kernel_size=(1, 1), stride=(1, 1), bias=False)\n                (bn): BatchNorm2d(1024, eps=1e-05, momentum=0.997, affine=True, track_running_stats=True)\n                (channel_drop): ChannelDropout()\n              )\n              (conv3x3-bn-relu): DynamicReLUConvBN(\n                (relu): ReLU()\n                (conv): DynamicConv2d(1024, 1024, kernel_size=(3, 3), stride=(1, 1), padding=(1, 1), bias=False)\n                (bn): BatchNorm2d(1024, eps=1e-05, momentum=0.997, affine=True, track_running_stats=True)\n                (channel_drop): ChannelDropout()\n              )\n              (maxpool3x3): MaxPool2d(kernel_size=3, stride=1, padding=1, dilation=1, ceil_mode=False)\n            )\n          )\n          (vertex_3): MixedVertex(\n            (proj_ops): ModuleList(\n              (0): DynamicReLUConvBN(\n                (relu): ReLU()\n                (conv): DynamicConv2d(1024, 1024, kernel_size=(1, 1), stride=(1, 1), bias=False)\n                (bn): BatchNorm2d(1024, eps=1e-05, momentum=0.997, affine=True, track_running_stats=True)\n                (channel_drop): ChannelDropout()\n              )\n              (1): Truncate()\n              (2): Truncate()\n            )\n            (ops): ModuleDict(\n              (conv1x1-bn-relu): DynamicReLUConvBN(\n                (relu): ReLU()\n                (conv): DynamicConv2d(1024, 1024, kernel_size=(1, 1), stride=(1, 1), bias=False)\n                (bn): BatchNorm2d(1024, eps=1e-05, momentum=0.997, affine=True, track_running_stats=True)\n                (channel_drop): ChannelDropout()\n              )\n              (conv3x3-bn-relu): DynamicReLUConvBN(\n                (relu): ReLU()\n                (conv): DynamicConv2d(1024, 1024, kernel_size=(3, 3), stride=(1, 1), padding=(1, 1), bias=False)\n                (bn): BatchNorm2d(1024, eps=1e-05, momentum=0.997, affine=True, track_running_stats=True)\n                (channel_drop): ChannelDropout()\n              )\n              (maxpool3x3): MaxPool2d(kernel_size=3, stride=1, padding=1, dilation=1, ceil_mode=False)\n            )\n          )\n          (vertex_4): MixedVertex(\n            (proj_ops): ModuleList(\n              (0): DynamicReLUConvBN(\n                (relu): ReLU()\n                (conv): DynamicConv2d(1024, 1024, kernel_size=(1, 1), stride=(1, 1), bias=False)\n                (bn): BatchNorm2d(1024, eps=1e-05, momentum=0.997, affine=True, track_running_stats=True)\n                (channel_drop): ChannelDropout()\n              )\n              (1): Truncate()\n              (2): Truncate()\n              (3): Truncate()\n            )\n            (ops): ModuleDict(\n              (conv1x1-bn-relu): DynamicReLUConvBN(\n                (relu): ReLU()\n                (conv): DynamicConv2d(1024, 1024, kernel_size=(1, 1), stride=(1, 1), bias=False)\n                (bn): BatchNorm2d(1024, eps=1e-05, momentum=0.997, affine=True, track_running_stats=True)\n                (channel_drop): ChannelDropout()\n              )\n              (conv3x3-bn-relu): DynamicReLUConvBN(\n                (relu): ReLU()\n                (conv): DynamicConv2d(1024, 1024, kernel_size=(3, 3), stride=(1, 1), padding=(1, 1), bias=False)\n                (bn): BatchNorm2d(1024, eps=1e-05, momentum=0.997, affine=True, track_running_stats=True)\n                (channel_drop): ChannelDropout()\n              )\n              (maxpool3x3): MaxPool2d(kernel_size=3, stride=1, padding=1, dilation=1, ceil_mode=False)\n            )\n          )\n          (vertex_5): MixedVertex(\n            (proj_ops): ModuleList(\n              (0): DynamicReLUConvBN(\n                (relu): ReLU()\n                (conv): DynamicConv2d(1024, 1024, kernel_size=(1, 1), stride=(1, 1), bias=False)\n                (bn): BatchNorm2d(1024, eps=1e-05, momentum=0.997, affine=True, track_running_stats=True)\n                (channel_drop): ChannelDropout()\n              )\n              (1): Truncate()\n              (2): Truncate()\n              (3): Truncate()\n              (4): Truncate()\n            )\n            (ops): ModuleDict(\n              (conv1x1-bn-relu): DynamicReLUConvBN(\n                (relu): ReLU()\n                (conv): DynamicConv2d(1024, 1024, kernel_size=(1, 1), stride=(1, 1), bias=False)\n                (bn): BatchNorm2d(1024, eps=1e-05, momentum=0.997, affine=True, track_running_stats=True)\n                (channel_drop): ChannelDropout()\n              )\n              (conv3x3-bn-relu): DynamicReLUConvBN(\n                (relu): ReLU()\n                (conv): DynamicConv2d(1024, 1024, kernel_size=(3, 3), stride=(1, 1), padding=(1, 1), bias=False)\n                (bn): BatchNorm2d(1024, eps=1e-05, momentum=0.997, affine=True, track_running_stats=True)\n                (channel_drop): ChannelDropout()\n              )\n              (maxpool3x3): MaxPool2d(kernel_size=3, stride=1, padding=1, dilation=1, ceil_mode=False)\n            )\n          )\n        )\n        (projection): Sequential(\n          (0): Conv2d(1024, 1024, kernel_size=(1, 1), stride=(1, 1), bias=False)\n          (1): BatchNorm2d(1024, eps=1e-05, momentum=0.997, affine=True, track_running_stats=True)\n          (2): ReLU()\n        )\n      )\n      (module2): NasBenchCellSearch(\n        (vertex_ops): ModuleDict(\n          (vertex_1): MixedVertex(\n            (proj_ops): ModuleList(\n              (0): DynamicReLUConvBN(\n                (relu): ReLU()\n                (conv): DynamicConv2d(1024, 1024, kernel_size=(1, 1), stride=(1, 1), bias=False)\n                (bn): BatchNorm2d(1024, eps=1e-05, momentum=0.997, affine=True, track_running_stats=True)\n                (channel_drop): ChannelDropout()\n              )\n            )\n            (ops): ModuleDict(\n              (conv1x1-bn-relu): DynamicReLUConvBN(\n                (relu): ReLU()\n                (conv): DynamicConv2d(1024, 1024, kernel_size=(1, 1), stride=(1, 1), bias=False)\n                (bn): BatchNorm2d(1024, eps=1e-05, momentum=0.997, affine=True, track_running_stats=True)\n                (channel_drop): ChannelDropout()\n              )\n              (conv3x3-bn-relu): DynamicReLUConvBN(\n                (relu): ReLU()\n                (conv): DynamicConv2d(1024, 1024, kernel_size=(3, 3), stride=(1, 1), padding=(1, 1), bias=False)\n                (bn): BatchNorm2d(1024, eps=1e-05, momentum=0.997, affine=True, track_running_stats=True)\n                (channel_drop): ChannelDropout()\n              )\n              (maxpool3x3): MaxPool2d(kernel_size=3, stride=1, padding=1, dilation=1, ceil_mode=False)\n            )\n          )\n          (vertex_2): MixedVertex(\n            (proj_ops): ModuleList(\n              (0): DynamicReLUConvBN(\n                (relu): ReLU()\n                (conv): DynamicConv2d(1024, 1024, kernel_size=(1, 1), stride=(1, 1), bias=False)\n                (bn): BatchNorm2d(1024, eps=1e-05, momentum=0.997, affine=True, track_running_stats=True)\n                (channel_drop): ChannelDropout()\n              )\n              (1): Truncate()\n            )\n            (ops): ModuleDict(\n              (conv1x1-bn-relu): DynamicReLUConvBN(\n                (relu): ReLU()\n                (conv): DynamicConv2d(1024, 1024, kernel_size=(1, 1), stride=(1, 1), bias=False)\n                (bn): BatchNorm2d(1024, eps=1e-05, momentum=0.997, affine=True, track_running_stats=True)\n                (channel_drop): ChannelDropout()\n              )\n              (conv3x3-bn-relu): DynamicReLUConvBN(\n                (relu): ReLU()\n                (conv): DynamicConv2d(1024, 1024, kernel_size=(3, 3), stride=(1, 1), padding=(1, 1), bias=False)\n                (bn): BatchNorm2d(1024, eps=1e-05, momentum=0.997, affine=True, track_running_stats=True)\n                (channel_drop): ChannelDropout()\n              )\n              (maxpool3x3): MaxPool2d(kernel_size=3, stride=1, padding=1, dilation=1, ceil_mode=False)\n            )\n          )\n          (vertex_3): MixedVertex(\n            (proj_ops): ModuleList(\n              (0): DynamicReLUConvBN(\n                (relu): ReLU()\n                (conv): DynamicConv2d(1024, 1024, kernel_size=(1, 1), stride=(1, 1), bias=False)\n                (bn): BatchNorm2d(1024, eps=1e-05, momentum=0.997, affine=True, track_running_stats=True)\n                (channel_drop): ChannelDropout()\n              )\n              (1): Truncate()\n              (2): Truncate()\n            )\n            (ops): ModuleDict(\n              (conv1x1-bn-relu): DynamicReLUConvBN(\n                (relu): ReLU()\n                (conv): DynamicConv2d(1024, 1024, kernel_size=(1, 1), stride=(1, 1), bias=False)\n                (bn): BatchNorm2d(1024, eps=1e-05, momentum=0.997, affine=True, track_running_stats=True)\n                (channel_drop): ChannelDropout()\n              )\n              (conv3x3-bn-relu): DynamicReLUConvBN(\n                (relu): ReLU()\n                (conv): DynamicConv2d(1024, 1024, kernel_size=(3, 3), stride=(1, 1), padding=(1, 1), bias=False)\n                (bn): BatchNorm2d(1024, eps=1e-05, momentum=0.997, affine=True, track_running_stats=True)\n                (channel_drop): ChannelDropout()\n              )\n              (maxpool3x3): MaxPool2d(kernel_size=3, stride=1, padding=1, dilation=1, ceil_mode=False)\n            )\n          )\n          (vertex_4): MixedVertex(\n            (proj_ops): ModuleList(\n              (0): DynamicReLUConvBN(\n                (relu): ReLU()\n                (conv): DynamicConv2d(1024, 1024, kernel_size=(1, 1), stride=(1, 1), bias=False)\n                (bn): BatchNorm2d(1024, eps=1e-05, momentum=0.997, affine=True, track_running_stats=True)\n                (channel_drop): ChannelDropout()\n              )\n              (1): Truncate()\n              (2): Truncate()\n              (3): Truncate()\n            )\n            (ops): ModuleDict(\n              (conv1x1-bn-relu): DynamicReLUConvBN(\n                (relu): ReLU()\n                (conv): DynamicConv2d(1024, 1024, kernel_size=(1, 1), stride=(1, 1), bias=False)\n                (bn): BatchNorm2d(1024, eps=1e-05, momentum=0.997, affine=True, track_running_stats=True)\n                (channel_drop): ChannelDropout()\n              )\n              (conv3x3-bn-relu): DynamicReLUConvBN(\n                (relu): ReLU()\n                (conv): DynamicConv2d(1024, 1024, kernel_size=(3, 3), stride=(1, 1), padding=(1, 1), bias=False)\n                (bn): BatchNorm2d(1024, eps=1e-05, momentum=0.997, affine=True, track_running_stats=True)\n                (channel_drop): ChannelDropout()\n              )\n              (maxpool3x3): MaxPool2d(kernel_size=3, stride=1, padding=1, dilation=1, ceil_mode=False)\n            )\n          )\n          (vertex_5): MixedVertex(\n            (proj_ops): ModuleList(\n              (0): DynamicReLUConvBN(\n                (relu): ReLU()\n                (conv): DynamicConv2d(1024, 1024, kernel_size=(1, 1), stride=(1, 1), bias=False)\n                (bn): BatchNorm2d(1024, eps=1e-05, momentum=0.997, affine=True, track_running_stats=True)\n                (channel_drop): ChannelDropout()\n              )\n              (1): Truncate()\n              (2): Truncate()\n              (3): Truncate()\n              (4): Truncate()\n            )\n            (ops): ModuleDict(\n              (conv1x1-bn-relu): DynamicReLUConvBN(\n                (relu): ReLU()\n                (conv): DynamicConv2d(1024, 1024, kernel_size=(1, 1), stride=(1, 1), bias=False)\n                (bn): BatchNorm2d(1024, eps=1e-05, momentum=0.997, affine=True, track_running_stats=True)\n                (channel_drop): ChannelDropout()\n              )\n              (conv3x3-bn-relu): DynamicReLUConvBN(\n                (relu): ReLU()\n                (conv): DynamicConv2d(1024, 1024, kernel_size=(3, 3), stride=(1, 1), padding=(1, 1), bias=False)\n                (bn): BatchNorm2d(1024, eps=1e-05, momentum=0.997, affine=True, track_running_stats=True)\n                (channel_drop): ChannelDropout()\n              )\n              (maxpool3x3): MaxPool2d(kernel_size=3, stride=1, padding=1, dilation=1, ceil_mode=False)\n            )\n          )\n        )\n        (projection): Sequential(\n          (0): Conv2d(1024, 1024, kernel_size=(1, 1), stride=(1, 1), bias=False)\n          (1): BatchNorm2d(1024, eps=1e-05, momentum=0.997, affine=True, track_running_stats=True)\n          (2): ReLU()\n        )\n      )\n    )\n  )\n  (dense): Linear(in_features=1024, out_features=10, bias=True)\n)"
     },
     "metadata": {},
     "output_type": "execute_result",
     "execution_count": 10
    }
   ],
   "source": [
    "model.eval()\n",
    "model_search.load_state_dict(padded_dict)\n",
    "model_search.eval()"
   ],
   "metadata": {
    "collapsed": false,
    "pycharm": {
     "name": "#%%\n",
     "is_executing": false
    }
   }
  },
  {
   "cell_type": "code",
   "execution_count": 38,
   "outputs": [
    {
     "name": "stdout",
     "text": [
      "0 0.0\n1 0.0\n2 0.0\n3 0.0\n4 0.0\n5 0.0\n6 0.0\n7 0.0\n8 0.0\n9 0.0\n10 0.0\n11 0.0\n12 0.0\n"
     ],
     "output_type": "stream"
    }
   ],
   "source": [
    "# This debugs the entire network's output.\n",
    "img, lab = iter(test_queue).__next__()\n",
    "img = img.cuda()\n",
    "lab = lab.cuda()\n",
    "bz = 32\n",
    "\n",
    "with torch.no_grad():\n",
    "    m1 = model.forward_debug(img[:bz, :, : ,:])\n",
    "    m2 = model_search.forward_debug(img[:bz, :, :, :])\n",
    "    for ind,(a,b) in enumerate(zip(m1, m2)):\n",
    "        print(ind, (a - b).sum().item())"
   ],
   "metadata": {
    "collapsed": false,
    "pycharm": {
     "name": "#%%\n",
     "is_executing": false
    }
   }
  },
  {
   "cell_type": "code",
   "execution_count": 12,
   "outputs": [],
   "source": [
    "# model_search.stem[1].eval()\n",
    "# model.stem[1].eval()\n",
    "# m1stem_out = model.stem(img)\n",
    "# model_search.stem.load_state_dict(model.stem.state_dict())\n",
    "# m2stem_out = model_search.stem(img)\n",
    "# for k, v in model.stem.state_dict().items():\n",
    "#     print(k, (v - model_search.stem.state_dict()[k]).sum().item())\n",
    "# print((m1stem_out - m2stem_out).sum().item())\n",
    "\n"
   ],
   "metadata": {
    "collapsed": false,
    "pycharm": {
     "name": "#%%\n",
     "is_executing": false
    }
   }
  },
  {
   "cell_type": "code",
   "execution_count": 13,
   "outputs": [
    {
     "name": "stdout",
     "text": [
      "NasBenchCell\nNasBenchCellSearch\n-29079.44921875\n"
     ],
     "output_type": "stream"
    }
   ],
   "source": [
    "s1input = m1[0].cuda()\n",
    "m1stack = model.stacks['stack0']['module0']\n",
    "m2stack = model_search.stacks['stack0']['module0']\n",
    "print(m1stack.__class__.__name__)\n",
    "print(m2stack.__class__.__name__)\n",
    "\n",
    "print((m1stack(s1input) - m2stack(s1input)).sum().item())"
   ],
   "metadata": {
    "collapsed": false,
    "pycharm": {
     "name": "#%%\n",
     "is_executing": false
    }
   }
  },
  {
   "cell_type": "code",
   "execution_count": 14,
   "outputs": [],
   "source": [
    "m1out = m1stack.forward_debug(s1input)\n",
    "m2out = m2stack.forward_debug(s1input)"
   ],
   "metadata": {
    "collapsed": false,
    "pycharm": {
     "name": "#%%\n",
     "is_executing": false
    }
   }
  },
  {
   "cell_type": "code",
   "execution_count": 15,
   "outputs": [
    {
     "name": "stdout",
     "text": [
      "input 0.0\noutput -29079.44921875\nvertex_1 4053.396728515625\nvertex_3 -13347.875\nvertex_4 -22021.6953125\nvertex_5 -28074.6796875\nvertex_2",
      " -5058.1689453125\nodict_items([('vertex_1', ['input']), ('vertex_3', ['input', 'vertex_1']), ('vertex_4', ['vertex_3']), ('vertex_5', ['vertex_4']), ('vertex_2', ['vertex_1']), ('output', ['vertex_1', 'vertex_2', 'vertex_5'])])\n"
     ],
     "output_type": "stream"
    }
   ],
   "source": [
    "# Cell level, not true after 1 iters\n",
    "for k, v in m1out.items():\n",
    "    print(k, (v - m2out[k]).sum().item())\n",
    "    \n",
    "print(m1stack.execution_order.items())"
   ],
   "metadata": {
    "collapsed": false,
    "pycharm": {
     "name": "#%%\n",
     "is_executing": false
    }
   }
  },
  {
   "cell_type": "code",
   "execution_count": 16,
   "outputs": [
    {
     "name": "stdout",
     "text": [
      "vertex_1 difference 4053.396728515625\nVertex(\n  (proj_ops): ModuleList(\n    (0): Sequential(\n      (0): Conv2d(128, 86, kernel_size=(1, 1), stride=(1, 1), bias=False)\n      (1): BatchNorm2d(86, eps=1e-05, momentum=0.997, affine=True, track_running_stats=True)\n      (2): ReLU()\n    )\n  )\n  (op): Sequential(\n    (0): Conv2d(86, 86, kernel_size=(3, 3), stride=(1, 1), padding=(1, 1), bias=False)\n    (1): BatchNorm2d(86, eps=1e-05, momentum=0.997, affine=True, track_running_stats=True)\n    (2): ReLU()\n  )\n)\nMixedVertex(\n  (proj_ops): ModuleList(\n    (0): DynamicReLUConvBN(\n      (relu): ReLU()\n      (conv): DynamicConv2d(128, 256, kernel_size=(1, 1), stride=(1, 1), bias=False)\n      (bn): BatchNorm2d(256, eps=1e-05, momentum=0.997, affine=True, track_running_stats=True)\n      (channel_drop): ChannelDropout()\n    )\n  )\n  (ops): ModuleDict(\n    (conv1x1-bn-relu): DynamicReLUConvBN(\n      (relu): ReLU()\n      (conv): DynamicConv2d(256, 256, kernel_size=(1, 1), stride=(1, 1), bias=False)\n      (bn): BatchNorm2d(256, eps=1e-05, momentum=0.997, affine=True, track_running_stats=True)\n      (channel_drop): ChannelDropout()\n    )\n    (conv3x3-bn-relu): DynamicReLUConvBN(\n      (relu): ReLU()\n      (conv): DynamicConv2d(256, 256, kernel_size=(3, 3), stride=(1, 1), padding=(1, 1), bias=False)\n      (bn): BatchNorm2d(256, eps=1e-05, momentum=0.997, affine=True, track_running_stats=True)\n      (channel_drop): ChannelDropout()\n    )\n    (maxpool3x3): MaxPool2d(kernel_size=3, stride=1, padding=1, dilation=1, ceil_mode=False)\n  )\n)\n"
     ],
     "output_type": "stream"
    }
   ],
   "source": [
    "# vertex level\n",
    "m1vertex = m1stack.vertex_ops['vertex_1']\n",
    "m2vertex = m2stack.vertex_ops['vertex_1']\n",
    "\n",
    "print('vertex_1 difference', (m1vertex([s1input,]) - m2vertex([s1input,])).sum().item())\n",
    "print(m1vertex)\n",
    "print(m2vertex)"
   ],
   "metadata": {
    "collapsed": false,
    "pycharm": {
     "name": "#%%\n",
     "is_executing": false
    }
   }
  },
  {
   "cell_type": "code",
   "execution_count": 17,
   "outputs": [
    {
     "name": "stdout",
     "text": [
      "after v1 proj diff -12232.4296875\nafter v1 diff 4053.396728515625\n"
     ],
     "output_type": "stream"
    }
   ],
   "source": [
    "# inside vertex level, proj_ops and vertex_op\n",
    "m1_proj = m1vertex.proj_ops[0](s1input)\n",
    "m1_out = m1vertex.op(m1_proj)\n",
    "\n",
    "m2_proj = m2vertex.current_proj_ops[0](s1input)\n",
    "m2_out = m2vertex.current_op(m2_proj)\n",
    "\n",
    "print('after v1 proj diff',(m1_proj - m2_proj).sum().item())\n",
    "print('after v1 diff',(m1_out - m2_out).sum().item())"
   ],
   "metadata": {
    "collapsed": false,
    "pycharm": {
     "name": "#%%\n",
     "is_executing": false
    }
   }
  },
  {
   "cell_type": "code",
   "execution_count": 18,
   "outputs": [
    {
     "name": "stdout",
     "text": [
      "Sequential(\n  (0): Conv2d(128, 86, kernel_size=(1, 1), stride=(1, 1), bias=False)\n  (1): BatchNorm2d(86, eps=1e-05, momentum=0.997, affine=True, track_running_stats=True)\n  (2): ReLU()\n)\nDynamicReLUConvBN(\n  (relu): ReLU()\n  (conv): DynamicConv2d(128, 256, kernel_size=(1, 1), stride=(1, 1), bias=False)\n  (bn): BatchNorm2d(256, eps=1e-05, momentum=0.997, affine=True, track_running_stats=True)\n  (channel_drop): ChannelDropout()\n)\n"
     ],
     "output_type": "stream"
    }
   ],
   "source": [
    "# proj level\n",
    "m1projop = m1vertex.proj_ops[0]\n",
    "m2projop = m2vertex.current_proj_ops[0]\n",
    "print(m1projop)\n",
    "print(m2projop)"
   ],
   "metadata": {
    "collapsed": false,
    "pycharm": {
     "name": "#%%\n",
     "is_executing": false
    }
   }
  },
  {
   "cell_type": "code",
   "execution_count": 37,
   "outputs": [
    {
     "name": "stdout",
     "text": [
      "False\nFalse\n"
     ],
     "output_type": "stream"
    }
   ],
   "source": [
    "print(m1projop[1].training)\n",
    "print(m2projop.bn.training)"
   ],
   "metadata": {
    "collapsed": false,
    "pycharm": {
     "name": "#%%\n",
     "is_executing": false
    }
   }
  },
  {
   "cell_type": "code",
   "execution_count": 20,
   "outputs": [
    {
     "name": "stdout",
     "text": [
      "False\nFalse\n"
     ],
     "output_type": "stream"
    }
   ],
   "source": [
    "# m2vertex.train()\n",
    "model_search.eval()\n",
    "print(m1projop[1].training)\n",
    "print(m2projop.bn.training)"
   ],
   "metadata": {
    "collapsed": false,
    "pycharm": {
     "name": "#%%\n",
     "is_executing": false
    }
   }
  },
  {
   "cell_type": "code",
   "execution_count": 21,
   "outputs": [
    {
     "name": "stdout",
     "text": [
      "['/home/yukaiche/pycharm/automl/experiments/reproduce-nasbench/rank_300004-arch_f2ff48f97a4f7b340b10f7600a062b5e-eval-runid-0', '/home/yukaiche/pycharm/automl/experiments/reproduce-nasbench/rank_200001-arch_6c678b4d5c0bb786d69ba399c0ee6759-eval-runid-0', '/home/yukaiche/pycharm/automl/experiments/reproduce-nasbench/rank_423000-arch_789eb4f52941c786ac64242606d379fb-eval-runid-0', '/home/yukaiche/pycharm/automl/experiments/reproduce-nasbench/rank_200003-arch_bbbcaeddb4d0782013a4aa63864f46d9-eval-runid-0', '/home/yukaiche/pycharm/automl/experiments/reproduce-nasbench/rank_400001-arch_1119da5413faccc8a6aec77d55d26fc7-eval-runid-0', '/home/yukaiche/pycharm/automl/experiments/reproduce-nasbench/rank_4000-arch_523ac64c85d50533bbbb695d6f3c583f-eval-runid-0', '/home/yukaiche/pycharm/automl/experiments/reproduce-nasbench/rank_5000-arch_81a7f132d0d93078bf6f58ae660985e4-eval-runid-0', '/home/yukaiche/pycharm/automl/experiments/reproduce-nasbench/rank_10-arch_ef11a63e3dec4177d65648771c3689aa-eval-runid-0', '/home/yukaiche/pycharm/automl/experiments/reproduce-nasbench/rank_400002-arch_f8167cf8d4c0926fc9436a7a058b2b54-eval-runid-0', '/home/yukaiche/pycharm/automl/experiments/reproduce-nasbench/rank_100001-arch_018b46ecbd2d0cdc420cb4574383b694-eval-runid-0', '/home/yukaiche/pycharm/automl/experiments/reproduce-nasbench/rank_100000-arch_538464bec1502be99fbfbd5200080caa-eval-runid-0', '/home/yukaiche/pycharm/automl/experiments/reproduce-nasbench/rank_2000-arch_172b3b3d8163eb2f2ad63b5b6d7e214a-eval-runid-0', '/home/yukaiche/pycharm/automl/experiments/reproduce-nasbench/rank_300001-arch_ffa05e224fdf80254991a0b91865f593-eval-runid-0', '/home/yukaiche/pycharm/automl/experiments/reproduce-nasbench/rank_423004-arch_b7c8fc1e4501f140434e1854284b43f4-eval-runid-0', '/home/yukaiche/pycharm/automl/experiments/reproduce-nasbench/rank_200000-arch_dbb82f92411e951be3c3249eb118328b-eval-runid-0', '/home/yukaiche/pycharm/automl/experiments/reproduce-nasbench/rank_100004-arch_7b7924641b6ee467f82f37b3b7eb51dd-eval-runid-0', '/home/yukaiche/pycharm/automl/experiments/reproduce-nasbench/rank_100002-arch_97a390a2cb02fdfbc505f6ac44a37228-eval-runid-0', '/home/yukaiche/pycharm/automl/experiments/reproduce-nasbench/rank_100003-arch_d885d701640a7d5fb1904bb5212b3200-eval-runid-0', '/home/yukaiche/pycharm/automl/experiments/reproduce-nasbench/rank_300000-arch_ebea8be67d25fc825ce6ffe4276479f2-eval-runid-0', '/home/yukaiche/pycharm/automl/experiments/reproduce-nasbench/rank_1000-arch_a2d021f626023241ae7268eb8260240c-eval-runid-0', '/home/yukaiche/pycharm/automl/experiments/reproduce-nasbench/rank_400000-arch_73a74dee1d13b18a4d8bc03eb1156e5c-eval-runid-0', '/home/yukaiche/pycharm/automl/experiments/reproduce-nasbench/rank_423003-arch_208476d048a5551955622243d379048e-eval-runid-0', '/home/yukaiche/pycharm/automl/experiments/reproduce-nasbench/rank_300002-arch_bd617b04c723cf1b7e63afae9b1963c2-eval-runid-0', '/home/yukaiche/pycharm/automl/experiments/reproduce-nasbench/rank_423001-arch_0a597cbfd44a59343135083788bd3c94-eval-runid-0', '/home/yukaiche/pycharm/automl/experiments/reproduce-nasbench/rank_200002-arch_42795b0b09cb57d2fab0f97d576d0ed3-eval-runid-0', '/home/yukaiche/pycharm/automl/experiments/reproduce-nasbench/rank_423002-arch_b94e6efc2afbbcfb86607e534ffc1015-eval-runid-0', '/home/yukaiche/pycharm/automl/experiments/reproduce-nasbench/rank_300003-arch_a84b1ca6851ea9ea913b7fbedcb47a94-eval-runid-0', '/home/yukaiche/pycharm/automl/experiments/reproduce-nasbench/rank_400004-arch_c98011952d1679b2a7e3999338ff4a13-eval-runid-0', '/home/yukaiche/pycharm/automl/experiments/reproduce-nasbench/rank_400003-arch_7411b9803ffe264b406bb658440c8f63-eval-runid-0', '/home/yukaiche/pycharm/automl/experiments/reproduce-nasbench/rank_200004-arch_253224d103e3c1099761405f2c965959-eval-runid-0']\n300004 f2ff48f97a4f7b340b10f7600a062b5e\n200003 bbbcaeddb4d0782013a4aa63864f46d9\n400001 1119da5413faccc8a6aec77d55d26fc7\n4000 523ac64c85d50533bbbb695d6f3c583f\n5000 81a7f132d0d93078bf6f58ae660985e4\n10 ef11a63e3dec4177d65648771c3689aa\n400002 f8167cf8d4c0926fc9436a7a058b2b54\n100001 018b46ecbd2d0cdc420cb4574383b694\n100000 538464bec1502be99fbfbd5200080caa\n2000 172b3b3d8163eb2f2ad63b5b6d7e214a\n300001 ffa05e224fdf80254991a0b91865f593\n200000 dbb82f92411e951be3c3249eb118328b\n100004 7b7924641b6ee467f82f37b3b7eb51dd\n100002 97a390a2cb02fdfbc505f6ac44a37228\n100003 d885d701640a7d5fb1904bb5212b3200\n300000 ebea8be67d25fc825ce6ffe4276479f2\n1000 a2d021f626023241ae7268eb8260240c\n300002 bd617b04c723cf1b7e63afae9b1963c2\n200002 42795b0b09cb57d2fab0f97d576d0ed3\n300003 a84b1ca6851ea9ea913b7fbedcb47a94\n400004 c98011952d1679b2a7e3999338ff4a13\n200004 253224d103e3c1099761405f2c965959\n"
     ],
     "output_type": "stream"
    }
   ],
   "source": [
    "import glob\n",
    "model_lists = glob.glob('/home/yukaiche/pycharm/automl/experiments/reproduce-nasbench/*')\n",
    "print(model_lists)\n",
    "for model_folder in model_lists:\n",
    "    if len(glob.glob(model_folder + '/checkpoint.pt')) > 0:\n",
    "        hash = model_folder.split('arch_')[1].split('-eval')[0]\n",
    "        rank = model_folder.split('rank_')[1].split('-arch')[0]\n",
    "        print(rank, hash)\n",
    "    \n",
    "\n"
   ],
   "metadata": {
    "collapsed": false,
    "pycharm": {
     "name": "#%%\n",
     "is_executing": false
    }
   }
  }
 ],
 "metadata": {
  "language_info": {
   "codemirror_mode": {
    "name": "ipython",
    "version": 2
   },
   "file_extension": ".py",
   "mimetype": "text/x-python",
   "name": "python",
   "nbconvert_exporter": "python",
   "pygments_lexer": "ipython2",
   "version": "2.7.6"
  },
  "kernelspec": {
   "name": "pytorch-latest",
   "language": "python",
   "display_name": "Pytorch-Latest"
  },
  "pycharm": {
   "stem_cell": {
    "cell_type": "raw",
    "source": [],
    "metadata": {
     "collapsed": false
    }
   }
  }
 },
 "nbformat": 4,
 "nbformat_minor": 0
}