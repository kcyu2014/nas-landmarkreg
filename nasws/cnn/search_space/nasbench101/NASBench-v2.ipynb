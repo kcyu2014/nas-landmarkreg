{
 "cells": [
  {
   "cell_type": "markdown",
   "metadata": {
    "collapsed": true,
    "pycharm": {
     "name": "#%% md\n"
    }
   },
   "source": [
    "# NASBench-101\n",
    "\n",
    "This colab accompanies [**NAS-Bench-101: Towards Reproducible Neural Architecture Search**](https://arxiv.org/abs/1902.09635) and the rest of the code at https://github.com/google-research/nasbench.\n",
    "\n",
    "In this colab, we demonstrate how to use the dataset for simple benchmarking and analysis. The publicly available and free hosted colab instances are sufficient to run this colab."
   ]
  },
  {
   "cell_type": "markdown",
   "metadata": {
    "collapsed": false
   },
   "source": [
    "## Load NASBench library and dataset"
   ]
  },
  {
   "cell_type": "code",
   "execution_count": 2,
   "metadata": {
    "collapsed": false,
    "pycharm": {
     "name": "#%%\n",
     "is_executing": false
    }
   },
   "outputs": [
    {
     "name": "stdout",
     "text": [
      "Loading dataset from file... This may take a few minutes...\nWARNING:tensorflow:From /home/yukaiche/pycharm/nasbench/nasbench/api.py:146: tf_record_iterator (from tensorflow.python.lib.io.tf_record) is deprecated and will be removed in a future version.\nInstructions for updating:\nUse eager execution and: \n`tf.data.TFRecordDataset(path)`\n",
      "Loaded dataset in 44 seconds\n"
     ],
     "output_type": "stream"
    }
   ],
   "source": [
    "# Download the raw data (only 108 epoch data points, for full dataset,\n",
    "# uncomment the second line for nasbench_full.tfrecord).\n",
    "\n",
    "# !curl -O https://storage.googleapis.com/nasbench/nasbench_only108.tfrecord\n",
    "# !curl -O https://storage.googleapis.com/nasbench/nasbench_full.tfrecord\n",
    "\n",
    "# Clone and install the code and dependencies.\n",
    "\n",
    "# !git clone https://github.com/google-research/nasbench\n",
    "# !pip install ./nasbench\n",
    "\n",
    "# Initialize the NASBench object which parses the raw data into memory (this\n",
    "# should only be run once as it takes up to a few minutes).\n",
    "from nasbench import api\n",
    "%load_ext autoreload\n",
    "%autoreload 2\n",
    "\n",
    "import sys\n",
    "import os\n",
    "os.chdir('/home/yukaiche/pycharm/automl/search_policies/cnn/nasbench101')\n",
    "sys.path.append(\"/home/yukaiche/pycharm/nasbench\")\n",
    "sys.path.append('/home/yukaiche/pycharm/automl')\n",
    "\n",
    "\n",
    "from nasbench import api\n",
    "\n",
    "# Use nasbench_full.tfrecord for full dataset (run download command above).\n",
    "nasdata = api.NASBench('/home/yukaiche/pycharm/nasbench/nasbench_only108.tfrecord')\n"
   ]
  },
  {
   "cell_type": "code",
   "execution_count": 3,
   "metadata": {
    "collapsed": false,
    "pycharm": {
     "name": "#%%\n",
     "is_executing": false
    }
   },
   "outputs": [
    {
     "name": "stdout",
     "text": [
      "[0.38076125 0.76041522 0.75035755]\n32\nCannot import graphviz package\nLoading dataset from file... This may take a few minutes...\n",
      "Loaded dataset in 44 seconds\n"
     ],
     "output_type": "stream"
    }
   ],
   "source": [
    "\n",
    "from search_policies.cnn.search_space.nasbench101.nasbench_api_v2 import NASBench_v2\n",
    "nasdata_v2 = NASBench_v2('/home/yukaiche/data/nasbench_only108.tfrecord', only_hash=False)\n"
   ]
  },
  {
   "cell_type": "markdown",
   "metadata": {
    "collapsed": false
   },
   "source": [
    "# Test Graph generation from json style file.\n"
   ]
  },
  {
   "cell_type": "code",
   "execution_count": 4,
   "metadata": {
    "collapsed": false,
    "pycharm": {
     "name": "#%%\n",
     "is_executing": false
    }
   },
   "outputs": [
    {
     "name": "stdout",
     "text": [
      "[[[0, 1, 1, 0], [0, 0, 1, 0], [0, 0, 0, 1], [0, 0, 0, 0]], [-1, 2, 0, -2]]\nhash v2 created graph Adjacent matrix: [[0, 1, 1, 0], [0, 0, 1, 0], [0, 0, 0, 1], [0, 0, 0, 0]] \nOps: ['input', 'maxpool3x3', 'conv3x3-bn-relu', 'output']\n\nhash query from NasBench v1\nmodel_spec query from NasBench v1\n"
     ],
     "output_type": "stream"
    }
   ],
   "source": [
    "\n",
    "import json\n",
    "from search_policies.cnn.search_space.nasbench101.sampler import random_spec\n",
    "from search_policies.cnn.search_space.nasbench101.nasbench_api_v2 import ModelSpec_v2\n",
    "import search_policies.cnn.search_space.nasbench101.util as util \n",
    "# r_spec = random_spec(nasdata_v2)\n",
    "# print(r_spec.ops[1:-1])\n",
    "# load the graph.json\n",
    "with open('/home/yukaiche/pycharm/nasbench/nasbench/scripts/graph_v4.json') as f:\n",
    "    graph_json = json.load(f)\n",
    "\n",
    "hashs = [h for h in graph_json.keys()]\n",
    "_hash = hashs[-10]\n",
    "print(graph_json[_hash])\n",
    "# lists = graph_json[_hash]\n",
    "# [i + 2 for i in lists[1]]\n",
    "# available_ops=('conv3x3-bn-relu', 'conv1x1-bn-relu', 'maxpool3x3')\n",
    "\n",
    "hash_v2 = ModelSpec_v2.load_from_list(graph_json[_hash])\n",
    "print(\"hash v2 created graph\", hash_v2)\n",
    "query = nasdata.get_metrics_from_hash(_hash)\n",
    "print(\"hash query from NasBench v1\")\n",
    "util.display_cell(query[0])\n",
    "print(\"model_spec query from NasBench v1\")\n",
    "util.display_cell(nasdata.query(hash_v2))"
   ]
  },
  {
   "cell_type": "code",
   "execution_count": 5,
   "metadata": {
    "collapsed": false,
    "pycharm": {
     "name": "#%%\n",
     "is_executing": false
    }
   },
   "outputs": [
    {
     "name": "stdout",
     "text": [
      "model_spec query from NasBench v2\n"
     ],
     "output_type": "stream"
    },
    {
     "data": {
      "text/plain": "True"
     },
     "metadata": {},
     "output_type": "execute_result",
     "execution_count": 5
    }
   ],
   "source": [
    "# print('hash query from NasBench v2')\n",
    "# util.display_cell(nasdata_v2.get_metrics_from_hash(_hash))\n",
    "print(\"model_spec query from NasBench v2\")\n",
    "util.display_cell(nasdata_v2.query(hash_v2))\n",
    "# fixed_stat, computed_stat = nasdata_v2.get_metrics_from_hash(_hash)\n",
    "# util.display_cell(fixed_stat)\n",
    "# util.display_cell(computed_stat)\n",
    "# print(computed_stat[108][0])\n",
    "\n",
    "# Check the output\n",
    "# input graph_json is now bi-literal relationship.\n",
    "hash_v2.model_spec_to_json() == graph_json[_hash]\n"
   ]
  },
  {
   "cell_type": "markdown",
   "metadata": {
    "collapsed": false
   },
   "source": [
    "# Produce the ranking of NASBench based on hash.\n"
   ]
  },
  {
   "cell_type": "code",
   "execution_count": 12,
   "metadata": {
    "collapsed": false,
    "pycharm": {
     "name": "#%%\n",
     "is_executing": false
    }
   },
   "outputs": [
    {
     "name": "stdout",
     "text": [
      "All models in NASBench 91\n"
     ],
     "output_type": "stream"
    }
   ],
   "source": [
    "NASBENCH_CONFIG = 'v4_e9_op3'\n",
    "with open(f'/home/yukaiche/data/nasbench_all_graphs_{NASBENCH_CONFIG}.json', 'r') as f:\n",
    "    all_graphs = json.load(f)\n",
    "\n",
    "\n",
    "all_hashs = all_graphs.keys()\n",
    "print('All models in NASBench', len(all_graphs))\n"
   ]
  },
  {
   "cell_type": "code",
   "execution_count": 13,
   "metadata": {
    "collapsed": false,
    "pycharm": {
     "name": "#%%\n",
     "is_executing": false
    }
   },
   "outputs": [
    {
     "name": "stdout",
     "text": [
      "   index                              hash  validation_accuracy\n0     17  278a65c91e279624407615a84f3282c4             0.780616\n1     53  79ac0ca945869f05b1fc34f4110f67d3             0.797977\n2     55  7dadb571f060337fb22f22029a04228a             0.816506\n3     33  47fb5adadfc9f8a75e3de789f7591943             0.819812\n4     79  d1269d9156ddc027c40473008192958a             0.824486\n5      8  168e95938db8e7c52112e58c0f292079             0.826723\n6     32  471546730eff6ba24d163061e4029d13             0.829026\n7      3  043721b9c7fe8c5fad811d47d83132ec             0.834034\n8     29  3c325aea3e66b614c829c5169d038b80             0.835804\n9      6  09fc2d10bdd6225e167a6f81a22a3f06             0.836138\n"
     ],
     "output_type": "stream"
    }
   ],
   "source": [
    "import pandas as pd\n",
    "all_hashs = [k for k in all_hashs]\n",
    "hash_vs_valid_acc = {}\n",
    "for _hash in all_hashs:\n",
    "    d = nasdata_v2.query(ModelSpec_v2.load_from_list(all_graphs[_hash]))\n",
    "    # print([k for k in d.keys()])\n",
    "    acc = d['validation_accuracy']\n",
    "    hash_vs_valid_acc[_hash] = acc\n",
    "    # print(acc)\n",
    "\n",
    "# print([k for k in hash_vs_valid_acc.keys()])\n",
    "\n",
    "pd_hash = pd.DataFrame.from_dict(\n",
    "    {'hash': [k for k in hash_vs_valid_acc.keys()],\n",
    "     'validation_accuracy':[ hash_vs_valid_acc[new_k] for new_k in [k for k in hash_vs_valid_acc.keys()]]}\n",
    ")\n",
    "pd_hash.reset_index(inplace=True)\n",
    "pd_hash.sort_values('validation_accuracy',inplace=True)\n",
    "pd_hash.reset_index(inplace=True, drop=True)\n",
    "print(pd_hash[:10])\n",
    "\n"
   ]
  },
  {
   "cell_type": "code",
   "execution_count": 16,
   "metadata": {
    "collapsed": false,
    "pycharm": {
     "name": "#%%\n",
     "is_executing": false
    }
   },
   "outputs": [
    {
     "name": "stdout",
     "text": [
      "['278a65c91e279624407615a84f3282c4', '79ac0ca945869f05b1fc34f4110f67d3', '7dadb571f060337fb22f22029a04228a', '47fb5adadfc9f8a75e3de789f7591943', 'd1269d9156ddc027c40473008192958a', '168e95938db8e7c52112e58c0f292079', '471546730eff6ba24d163061e4029d13', '043721b9c7fe8c5fad811d47d83132ec', '3c325aea3e66b614c829c5169d038b80', '09fc2d10bdd6225e167a6f81a22a3f06']\n"
     ],
     "output_type": "stream"
    }
   ],
   "source": [
    "new_dict = pd_hash.to_dict()\n",
    "# with open('/home/yukaiche/data/nasbench_hash-rank_v7_e9_op3.json', 'w') as f:\n",
    "#     json.dump(new_dict, f)\n",
    "# print([k for k in new_dict.keys()])\n",
    "\n",
    "only_hash = [new_dict['hash'][k] for k in sorted([v for v in new_dict['index'].values()])]\n",
    "print(only_hash[:10])\n",
    "with open(f'/home/yukaiche/data/nasbench_hash_rank_simple_{NASBENCH_CONFIG.replace(\"_\", \"-\")}.json', 'w') as f:\n",
    "    json.dump([new_dict['hash'][k] for k in sorted([v for v in new_dict['index'].values()])], f)\n",
    "\n",
    "# Sanity check\n",
    "util.display_cell(nasdata_v2.query(ModelSpec_v2.load_from_list(all_graphs['278a65c91e279624407615a84f3282c4'])))\n"
   ]
  },
  {
   "cell_type": "code",
   "execution_count": 18,
   "metadata": {
    "collapsed": false,
    "pycharm": {
     "name": "#%%\n",
     "is_executing": false
    }
   },
   "outputs": [
    {
     "data": {
      "text/plain": "(array([ 1.,  0.,  1.,  0.,  2.,  3.,  6.,  0.,  0.,  0.,  0.,  0., 10.,\n        16.,  2.,  2.,  4., 10., 15., 19.]),\n array([0.78061565, 0.78879373, 0.79697182, 0.8051499 , 0.81332798,\n        0.82150607, 0.82968415, 0.83786224, 0.84604032, 0.8542184 ,\n        0.86239649, 0.87057457, 0.87875266, 0.88693074, 0.89510882,\n        0.90328691, 0.91146499, 0.91964308, 0.92782116, 0.93599925,\n        0.94417733]),\n <a list of 20 Patch objects>)"
     },
     "metadata": {},
     "output_type": "execute_result",
     "execution_count": 18
    },
    {
     "data": {
      "text/plain": "<Figure size 288x360 with 1 Axes>",
      "image/png": "[encoded data removed]"
     },
     "metadata": {
      "needs_background": "light"
     },
     "output_type": "display_data"
    }
   ],
   "source": [
    "# Visualize the histogram\n",
    "import matplotlib.pyplot as plt\n",
    "\n",
    "fig, ax = plt.subplots(1,1, figsize=(4,5))\n",
    "ax.hist(new_dict['validation_accuracy'].values(), bins = 20)\n"
   ]
  },
  {
   "cell_type": "code",
   "execution_count": 19,
   "metadata": {
    "collapsed": false,
    "pycharm": {
     "name": "#%% \n",
     "is_executing": false
    }
   },
   "outputs": [
    {
     "name": "stdout",
     "text": [
      "('\"ef11a63e3dec4177d65648771c3689aa\" \"a2d021f626023241ae7268eb8260240c\" \"172b3b3d8163eb2f2ad63b5b6d7e214a\" \"523ac64c85d50533bbbb695d6f3c583f\" \"81a7f132d0d93078bf6f58ae660985e4\" \"538464bec1502be99fbfbd5200080caa\" \"018b46ecbd2d0cdc420cb4574383b694\" \"97a390a2cb02fdfbc505f6ac44a37228\" \"d885d701640a7d5fb1904bb5212b3200\" \"7b7924641b6ee467f82f37b3b7eb51dd\" \"dbb82f92411e951be3c3249eb118328b\" \"6c678b4d5c0bb786d69ba399c0ee6759\" \"42795b0b09cb57d2fab0f97d576d0ed3\" \"bbbcaeddb4d0782013a4aa63864f46d9\" \"253224d103e3c1099761405f2c965959\" \"ebea8be67d25fc825ce6ffe4276479f2\" \"ffa05e224fdf80254991a0b91865f593\" \"bd617b04c723cf1b7e63afae9b1963c2\" \"a84b1ca6851ea9ea913b7fbedcb47a94\" \"f2ff48f97a4f7b340b10f7600a062b5e\" \"73a74dee1d13b18a4d8bc03eb1156e5c\" \"1119da5413faccc8a6aec77d55d26fc7\" \"f8167cf8d4c0926fc9436a7a058b2b54\" \"7411b9803ffe264b406bb658440c8f63\" \"c98011952d1679b2a7e3999338ff4a13\" \"789eb4f52941c786ac64242606d379fb\" \"0a597cbfd44a59343135083788bd3c94\" \"b94e6efc2afbbcfb86607e534ffc1015\" \"208476d048a5551955622243d379048e\" \"b7c8fc1e4501f140434e1854284b43f4\" ', '\"10\" \"1000\" \"2000\" \"4000\" \"5000\" \"100000\" \"100001\" \"100002\" \"100003\" \"100004\" \"200000\" \"200001\" \"200002\" \"200003\" \"200004\" \"300000\" \"300001\" \"300002\" \"300003\" \"300004\" \"400000\" \"400001\" \"400002\" \"400003\" \"400004\" \"423000\" \"423001\" \"423002\" \"423003\" \"423004\" ')\nAdjacent matrix: [[0, 1, 0, 0, 0, 0], [0, 0, 1, 1, 1, 0], [0, 0, 0, 1, 1, 1], [0, 0, 0, 0, 1, 0], [0, 0, 0, 0, 0, 1], [0, 0, 0, 0, 0, 0]] \nOps: ['input', 'conv3x3-bn-relu', 'maxpool3x3', 'maxpool3x3', 'maxpool3x3', 'output']\n\n"
     ],
     "output_type": "stream"
    }
   ],
   "source": [
    "# Test sampling the data \n",
    "# Not random, but just take a bunch of from \n",
    "# sample a set of 30 hash, build their graph and train.\n",
    "# put this funciton into the manual_define_sampled_search\n",
    "from search_policies.cnn.search_space.nasbench101.sampler import manual_define_sampled_search\n",
    "print(manual_define_sampled_search())\n",
    "\n",
    "_hash = 'ef11a63e3dec4177d65648771c3689aa'\n",
    "\n",
    "util.display_cell(nasdata_v2.query_hash(_hash))\n",
    "print(nasdata_v2.hash_to_model_spec(_hash))\n"
   ]
  },
  {
   "cell_type": "markdown",
   "metadata": {
    "collapsed": false,
    "pycharm": {
     "name": "#%% md\n",
     "is_executing": false
    }
   },
   "source": [
    "# Node = 4 case to do sanity checking.\n",
    "\n",
    "This is to test the use case while node = 4, in CNN, for soft-weight-sharing.\n"
   ]
  },
  {
   "cell_type": "code",
   "execution_count": 9,
   "metadata": {
    "collapsed": false,
    "pycharm": {
     "name": "#%%\n",
     "is_executing": false
    }
   },
   "outputs": [
    {
     "name": "stdout",
     "text": [
      "All models in NASBench 91\n"
     ],
     "output_type": "stream"
    }
   ],
   "source": [
    "with open('/home/yukaiche/data/nasbench_all_graphs_v4_e9_op3.json', 'r') as f:\n",
    "    all_graphs = json.load(f)\n",
    "\n",
    "\n",
    "all_hashs = all_graphs.keys()\n",
    "print('All models in NASBench', len(all_graphs))\n"
   ]
  },
  {
   "cell_type": "code",
   "execution_count": 24,
   "outputs": [
    {
     "name": "stdout",
     "text": [
      "INFO:tensorflow:vertex_channels: [128, 128, 128, 128, 128, 256]\n",
      "INFO:tensorflow:vertex_channels: [256, 128, 128, 128, 128, 256]\n",
      "INFO:tensorflow:vertex_channels: [256, 128, 128, 128, 128, 256]\n",
      "INFO:tensorflow:vertex_channels: [256, 256, 256, 256, 256, 512]\n",
      "INFO:tensorflow:vertex_channels: [512, 256, 256, 256, 256, 512]\n",
      "INFO:tensorflow:vertex_channels: [512, 256, 256, 256, 256, 512]\n",
      "INFO:tensorflow:vertex_channels: [512, 512, 512, 512, 512, 1024]\n",
      "INFO:tensorflow:vertex_channels: [1024, 512, 512, 512, 512, 1024]\n",
      "INFO:tensorflow:vertex_channels: [1024, 512, 512, 512, 512, 1024]\n",
      "3\n"
     ],
     "output_type": "stream"
    },
    {
     "name": "stderr",
     "text": [
      "INFO:tensorflow:vertex_channels: [128, 128, 128, 128, 128, 256]\n",
      "INFO:tensorflow:vertex_channels: [256, 128, 128, 128, 128, 256]\n",
      "INFO:tensorflow:vertex_channels: [256, 128, 128, 128, 128, 256]\n",
      "INFO:tensorflow:vertex_channels: [256, 256, 256, 256, 256, 512]\n",
      "INFO:tensorflow:vertex_channels: [512, 256, 256, 256, 256, 512]\n",
      "INFO:tensorflow:vertex_channels: [512, 256, 256, 256, 256, 512]\n",
      "INFO:tensorflow:vertex_channels: [512, 512, 512, 512, 512, 1024]\n",
      "INFO:tensorflow:vertex_channels: [1024, 512, 512, 512, 512, 1024]\n",
      "INFO:tensorflow:vertex_channels: [1024, 512, 512, 512, 512, 1024]\n"
     ],
     "output_type": "stream"
    }
   ],
   "source": [
    "from search_policies.cnn.search_space.nasbench101.model import NasBenchNet\n",
    "\n",
    "net = NasBenchNet(3, nasdata_v2.hash_to_model_spec(_hash))\n",
    "\n",
    "print(len(net.stacks))\n"
   ],
   "metadata": {
    "collapsed": false,
    "pycharm": {
     "name": "#%%\n",
     "is_executing": false
    }
   }
  },
  {
   "cell_type": "code",
   "execution_count": 35,
   "outputs": [
    {
     "name": "stdout",
     "text": [
      "\nodict_keys(['vertex_1', 'vertex_2', 'vertex_3', 'vertex_4', 'output'])\n[[0 1 0 0 0 0]\n [0 0 1 1 1 0]\n [0 0 0 1 1 1]\n [0 0 0 0 1 0]\n [0 0 0 0 0 1]\n [0 0 0 0 0 0]]\n"
     ],
     "output_type": "stream"
    }
   ],
   "source": [
    "\n",
    "acell = net.stacks['stack0']['module0']\n",
    "print(acell.dag)\n",
    "\n",
    "import networkx as nx\n",
    "model_spec = nasdata_v2.hash_to_model_spec(_hash)\n",
    "dag = nx.from_numpy_matrix(model_spec.matrix, create_using=nx.DiGraph())\n",
    "print(acell.execution_order.keys())\n",
    "print(model_spec.matrix)"
   ],
   "metadata": {
    "collapsed": false,
    "pycharm": {
     "name": "#%%\n",
     "is_executing": false
    }
   }
  },
  {
   "cell_type": "code",
   "execution_count": 39,
   "outputs": [
    {
     "name": "stdout",
     "text": [
      "0\n[]\n1\n[0]\n2\n[1]\n3\n[1, 2]\n4\n[1, 2, 3]\n5\n[2, 4]\n{0: {1: {'weight': 1}}, 1: {2: {'weight': 1}, 3: {'weight': 1}, 4: {'weight': 1}}, 2: {3: {'weight': 1}, 4: {'weight': 1}, 5: {'weight': 1}}, 3: {4: {'weight': 1}}, 4: {5: {'weight': 1}}, 5: {}}\n[(0, 1, {'weight': 1}), (1, 2, {'weight': 1}), (1, 3, {'weight': 1}), (1, 4, {'weight': 1}), (2, 3, {'weight': 1}), (2, 4, {'weight': 1}), (2, 5, {'weight': 1}), (3, 4, {'weight': 1}), (4, 5, {'weight': 1})]\n"
     ],
     "output_type": "stream"
    }
   ],
   "source": [
    "\n",
    "for vert in nx.topological_sort(dag):\n",
    "    print(vert)\n",
    "    print(list(dag.predecessors(vert)))\n",
    "\n",
    "print(nx.to_dict_of_dicts(dag))\n",
    "print(nx.to_edgelist(dag))\n",
    "\n",
    "\n",
    "\n",
    "nx.from_edgelist(genotype,create_using=nx.DiGraph())"
   ],
   "metadata": {
    "collapsed": false,
    "pycharm": {
     "name": "#%%\n",
     "is_executing": false
    }
   }
  },
  {
   "cell_type": "code",
   "execution_count": null,
   "outputs": [],
   "source": [
    "\n"
   ],
   "metadata": {
    "collapsed": false,
    "pycharm": {
     "name": "#%%\n"
    }
   }
  }
 ],
 "metadata": {
  "language_info": {
   "codemirror_mode": {
    "name": "ipython",
    "version": 2
   },
   "file_extension": ".py",
   "mimetype": "text/x-python",
   "name": "python",
   "nbconvert_exporter": "python",
   "pygments_lexer": "ipython2",
   "version": "2.7.6"
  },
  "kernelspec": {
   "name": "pytorch1.0",
   "language": "python",
   "display_name": "pytorch-latest"
  },
  "pycharm": {
   "stem_cell": {
    "cell_type": "raw",
    "source": [],
    "metadata": {
     "collapsed": false
    }
   }
  }
 },
 "nbformat": 4,
 "nbformat_minor": 0
}